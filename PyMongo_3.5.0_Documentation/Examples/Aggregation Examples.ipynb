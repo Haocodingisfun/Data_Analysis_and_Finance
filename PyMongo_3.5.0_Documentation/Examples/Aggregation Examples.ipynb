{
 "cells": [
  {
   "cell_type": "markdown",
   "metadata": {},
   "source": [
    "# Setup"
   ]
  },
  {
   "cell_type": "code",
   "execution_count": 1,
   "metadata": {
    "collapsed": false
   },
   "outputs": [],
   "source": [
    "from pymongo import MongoClient"
   ]
  },
  {
   "cell_type": "code",
   "execution_count": 2,
   "metadata": {
    "collapsed": true
   },
   "outputs": [],
   "source": [
    "db = MongoClient().aggregation_example"
   ]
  },
  {
   "cell_type": "code",
   "execution_count": 3,
   "metadata": {
    "collapsed": true
   },
   "outputs": [],
   "source": [
    "result = db.things.insert_many([{'x': 1, 'tags': ['dog', 'cat']},\n",
    "                                {'x': 2, 'tags': ['cat']},\n",
    "                                {'x': 2, 'tags': ['mouse', 'cat', 'dog']},\n",
    "                                {'x': 3, 'tags': []}])"
   ]
  },
  {
   "cell_type": "code",
   "execution_count": 4,
   "metadata": {
    "collapsed": false
   },
   "outputs": [
    {
     "data": {
      "text/plain": [
       "[ObjectId('59a7ba3b498ab10af626688c'),\n",
       " ObjectId('59a7ba3b498ab10af626688d'),\n",
       " ObjectId('59a7ba3b498ab10af626688e'),\n",
       " ObjectId('59a7ba3b498ab10af626688f')]"
      ]
     },
     "execution_count": 4,
     "metadata": {},
     "output_type": "execute_result"
    }
   ],
   "source": [
    "result.inserted_ids"
   ]
  },
  {
   "cell_type": "markdown",
   "metadata": {},
   "source": [
    "# Aggregation Framework"
   ]
  },
  {
   "cell_type": "code",
   "execution_count": 5,
   "metadata": {
    "collapsed": true
   },
   "outputs": [],
   "source": [
    "from bson.son import SON"
   ]
  },
  {
   "cell_type": "code",
   "execution_count": 6,
   "metadata": {
    "collapsed": true
   },
   "outputs": [],
   "source": [
    "pipeline = [\n",
    "    {'$unwind': '$tags'},\n",
    "    {'$group': {'_id': '$tags', 'count': {'$sum': 1}}},\n",
    "    {'$sort': SON([('count', -1), ('_id', -1)])}\n",
    "]"
   ]
  },
  {
   "cell_type": "code",
   "execution_count": 7,
   "metadata": {
    "collapsed": true
   },
   "outputs": [],
   "source": [
    "import pprint"
   ]
  },
  {
   "cell_type": "code",
   "execution_count": 8,
   "metadata": {
    "collapsed": false,
    "scrolled": true
   },
   "outputs": [
    {
     "name": "stdout",
     "output_type": "stream",
     "text": [
      "[{'_id': 'cat', 'count': 6},\n",
      " {'_id': 'dog', 'count': 4},\n",
      " {'_id': 'mouse', 'count': 2}]\n"
     ]
    }
   ],
   "source": [
    "pprint.pprint(list(db.things.aggregate(pipeline)))"
   ]
  },
  {
   "cell_type": "code",
   "execution_count": 11,
   "metadata": {
    "collapsed": false
   },
   "outputs": [
    {
     "data": {
      "text/plain": [
       "{'ok': 1.0,\n",
       " 'stages': [{'$cursor': {'fields': {'_id': 0, 'tags': 1},\n",
       "    'query': {},\n",
       "    'queryPlanner': {'indexFilterSet': False,\n",
       "     'namespace': 'aggregation_example.things',\n",
       "     'parsedQuery': {},\n",
       "     'plannerVersion': 1,\n",
       "     'rejectedPlans': [],\n",
       "     'winningPlan': {'direction': 'forward', 'stage': 'COLLSCAN'}}}},\n",
       "  {'$unwind': {'path': '$tags'}},\n",
       "  {'$group': {'_id': '$tags', 'count': {'$sum': {'$const': 1}}}},\n",
       "  {'$sort': {'sortKey': {'_id': -1, 'count': -1}}}]}"
      ]
     },
     "execution_count": 11,
     "metadata": {},
     "output_type": "execute_result"
    }
   ],
   "source": [
    "db.command('aggregate', 'things', pipeline=pipeline, explain=True)"
   ]
  },
  {
   "cell_type": "markdown",
   "metadata": {},
   "source": [
    "# Map/Reduce"
   ]
  },
  {
   "cell_type": "code",
   "execution_count": null,
   "metadata": {
    "collapsed": true
   },
   "outputs": [],
   "source": []
  }
 ],
 "metadata": {
  "kernelspec": {
   "display_name": "Python 3",
   "language": "python",
   "name": "python3"
  },
  "language_info": {
   "codemirror_mode": {
    "name": "ipython",
    "version": 3
   },
   "file_extension": ".py",
   "mimetype": "text/x-python",
   "name": "python",
   "nbconvert_exporter": "python",
   "pygments_lexer": "ipython3",
   "version": "3.6.0"
  }
 },
 "nbformat": 4,
 "nbformat_minor": 2
}
