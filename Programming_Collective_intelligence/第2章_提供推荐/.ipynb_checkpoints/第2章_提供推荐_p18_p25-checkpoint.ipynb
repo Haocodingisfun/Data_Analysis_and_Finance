{
 "cells": [
  {
   "cell_type": "markdown",
   "metadata": {},
   "source": [
    "    由于 del.icio.us 网站变动，导致接口已经不能使用，且本书官方及 GitHub 上均无后续工程，因而暂时割下原书内容，另尝试其他内容。\n",
    "    构想这样一种情形，将股票作为“商品”，而时间（每一个交易日）作为“顾客”，每个交易日的每一支股票（标准化之后）的加个作为“打分”，这样就构建了一个数据集。  \n",
    "    可以直接用 tushare 拿到 DataFrame 格式的数据，随后归一化该时间序列。"
   ]
  },
  {
   "cell_type": "code",
   "execution_count": 1,
   "metadata": {
    "collapsed": false
   },
   "outputs": [],
   "source": [
    "import tushare as ts\n",
    "import pandas as pd"
   ]
  },
  {
   "cell_type": "code",
   "execution_count": 2,
   "metadata": {
    "collapsed": false
   },
   "outputs": [],
   "source": [
    "data = ts.get_k_data('000001', index=True, start='2017-01-01', end='2017-01-31')\n",
    "date = data['date']"
   ]
  },
  {
   "cell_type": "code",
   "execution_count": 3,
   "metadata": {
    "collapsed": false
   },
   "outputs": [
    {
     "data": {
      "text/html": [
       "<div>\n",
       "<style>\n",
       "    .dataframe thead tr:only-child th {\n",
       "        text-align: right;\n",
       "    }\n",
       "\n",
       "    .dataframe thead th {\n",
       "        text-align: left;\n",
       "    }\n",
       "\n",
       "    .dataframe tbody tr th {\n",
       "        vertical-align: top;\n",
       "    }\n",
       "</style>\n",
       "<table border=\"1\" class=\"dataframe\">\n",
       "  <thead>\n",
       "    <tr style=\"text-align: right;\">\n",
       "      <th></th>\n",
       "      <th>000001</th>\n",
       "      <th>000004</th>\n",
       "      <th>000005</th>\n",
       "    </tr>\n",
       "    <tr>\n",
       "      <th>date</th>\n",
       "      <th></th>\n",
       "      <th></th>\n",
       "      <th></th>\n",
       "    </tr>\n",
       "  </thead>\n",
       "  <tbody>\n",
       "    <tr>\n",
       "      <th>2017-01-03</th>\n",
       "      <td>9.026</td>\n",
       "      <td>44.45</td>\n",
       "      <td>6.83</td>\n",
       "    </tr>\n",
       "    <tr>\n",
       "      <th>2017-01-04</th>\n",
       "      <td>9.026</td>\n",
       "      <td>44.70</td>\n",
       "      <td>7.01</td>\n",
       "    </tr>\n",
       "    <tr>\n",
       "      <th>2017-01-05</th>\n",
       "      <td>9.036</td>\n",
       "      <td>44.44</td>\n",
       "      <td>6.97</td>\n",
       "    </tr>\n",
       "    <tr>\n",
       "      <th>2017-01-06</th>\n",
       "      <td>8.997</td>\n",
       "      <td>43.96</td>\n",
       "      <td>7.03</td>\n",
       "    </tr>\n",
       "    <tr>\n",
       "      <th>2017-01-09</th>\n",
       "      <td>9.016</td>\n",
       "      <td>43.01</td>\n",
       "      <td>7.07</td>\n",
       "    </tr>\n",
       "    <tr>\n",
       "      <th>2017-01-10</th>\n",
       "      <td>9.016</td>\n",
       "      <td>43.25</td>\n",
       "      <td>7.01</td>\n",
       "    </tr>\n",
       "    <tr>\n",
       "      <th>2017-01-11</th>\n",
       "      <td>9.007</td>\n",
       "      <td>42.45</td>\n",
       "      <td>6.86</td>\n",
       "    </tr>\n",
       "    <tr>\n",
       "      <th>2017-01-12</th>\n",
       "      <td>9.016</td>\n",
       "      <td>42.05</td>\n",
       "      <td>6.79</td>\n",
       "    </tr>\n",
       "    <tr>\n",
       "      <th>2017-01-13</th>\n",
       "      <td>9.026</td>\n",
       "      <td>41.00</td>\n",
       "      <td>6.68</td>\n",
       "    </tr>\n",
       "    <tr>\n",
       "      <th>2017-01-16</th>\n",
       "      <td>9.007</td>\n",
       "      <td>38.26</td>\n",
       "      <td>6.44</td>\n",
       "    </tr>\n",
       "    <tr>\n",
       "      <th>2017-01-17</th>\n",
       "      <td>9.016</td>\n",
       "      <td>37.37</td>\n",
       "      <td>6.48</td>\n",
       "    </tr>\n",
       "    <tr>\n",
       "      <th>2017-01-18</th>\n",
       "      <td>9.036</td>\n",
       "      <td>37.15</td>\n",
       "      <td>6.55</td>\n",
       "    </tr>\n",
       "    <tr>\n",
       "      <th>2017-01-19</th>\n",
       "      <td>9.046</td>\n",
       "      <td>35.69</td>\n",
       "      <td>6.44</td>\n",
       "    </tr>\n",
       "    <tr>\n",
       "      <th>2017-01-20</th>\n",
       "      <td>9.085</td>\n",
       "      <td>36.48</td>\n",
       "      <td>6.50</td>\n",
       "    </tr>\n",
       "    <tr>\n",
       "      <th>2017-01-23</th>\n",
       "      <td>9.085</td>\n",
       "      <td>37.56</td>\n",
       "      <td>6.53</td>\n",
       "    </tr>\n",
       "    <tr>\n",
       "      <th>2017-01-24</th>\n",
       "      <td>9.135</td>\n",
       "      <td>38.63</td>\n",
       "      <td>6.51</td>\n",
       "    </tr>\n",
       "    <tr>\n",
       "      <th>2017-01-25</th>\n",
       "      <td>9.125</td>\n",
       "      <td>38.25</td>\n",
       "      <td>6.52</td>\n",
       "    </tr>\n",
       "    <tr>\n",
       "      <th>2017-01-26</th>\n",
       "      <td>9.194</td>\n",
       "      <td>38.29</td>\n",
       "      <td>6.56</td>\n",
       "    </tr>\n",
       "  </tbody>\n",
       "</table>\n",
       "</div>"
      ],
      "text/plain": [
       "            000001  000004  000005\n",
       "date                              \n",
       "2017-01-03   9.026   44.45    6.83\n",
       "2017-01-04   9.026   44.70    7.01\n",
       "2017-01-05   9.036   44.44    6.97\n",
       "2017-01-06   8.997   43.96    7.03\n",
       "2017-01-09   9.016   43.01    7.07\n",
       "2017-01-10   9.016   43.25    7.01\n",
       "2017-01-11   9.007   42.45    6.86\n",
       "2017-01-12   9.016   42.05    6.79\n",
       "2017-01-13   9.026   41.00    6.68\n",
       "2017-01-16   9.007   38.26    6.44\n",
       "2017-01-17   9.016   37.37    6.48\n",
       "2017-01-18   9.036   37.15    6.55\n",
       "2017-01-19   9.046   35.69    6.44\n",
       "2017-01-20   9.085   36.48    6.50\n",
       "2017-01-23   9.085   37.56    6.53\n",
       "2017-01-24   9.135   38.63    6.51\n",
       "2017-01-25   9.125   38.25    6.52\n",
       "2017-01-26   9.194   38.29    6.56"
      ]
     },
     "execution_count": 3,
     "metadata": {},
     "output_type": "execute_result"
    }
   ],
   "source": [
    "stock_list = ['000001', '000004', '000005']\n",
    "df = pd.DataFrame(index=date, columns=stock_list)\n",
    "for stock in stock_list:\n",
    "    data = ts.get_k_data(stock, start='2017-01-01', end='2017-01-31')\n",
    "    data.set_index('date', inplace=True)\n",
    "    df[stock] = data['close']\n",
    "df"
   ]
  },
  {
   "cell_type": "code",
   "execution_count": 4,
   "metadata": {
    "collapsed": false
   },
   "outputs": [],
   "source": [
    "df = df.transform(lambda x: (x - x.min()) / (x.max() - x.min()))\n",
    "df = df.applymap(lambda x: '%.2f' % x)"
   ]
  },
  {
   "cell_type": "code",
   "execution_count": 7,
   "metadata": {
    "collapsed": false
   },
   "outputs": [],
   "source": [
    "user_dict = df.T.to_dict()"
   ]
  },
  {
   "cell_type": "code",
   "execution_count": 8,
   "metadata": {
    "collapsed": false
   },
   "outputs": [
    {
     "data": {
      "text/plain": [
       "{'2017-01-03': {'000001': '0.15', '000004': '0.97', '000005': '0.62'},\n",
       " '2017-01-04': {'000001': '0.15', '000004': '1.00', '000005': '0.90'},\n",
       " '2017-01-05': {'000001': '0.20', '000004': '0.97', '000005': '0.84'},\n",
       " '2017-01-06': {'000001': '0.00', '000004': '0.92', '000005': '0.94'},\n",
       " '2017-01-09': {'000001': '0.10', '000004': '0.81', '000005': '1.00'},\n",
       " '2017-01-10': {'000001': '0.10', '000004': '0.84', '000005': '0.90'},\n",
       " '2017-01-11': {'000001': '0.05', '000004': '0.75', '000005': '0.67'},\n",
       " '2017-01-12': {'000001': '0.10', '000004': '0.71', '000005': '0.56'},\n",
       " '2017-01-13': {'000001': '0.15', '000004': '0.59', '000005': '0.38'},\n",
       " '2017-01-16': {'000001': '0.05', '000004': '0.29', '000005': '0.00'},\n",
       " '2017-01-17': {'000001': '0.10', '000004': '0.19', '000005': '0.06'},\n",
       " '2017-01-18': {'000001': '0.20', '000004': '0.16', '000005': '0.17'},\n",
       " '2017-01-19': {'000001': '0.25', '000004': '0.00', '000005': '0.00'},\n",
       " '2017-01-20': {'000001': '0.45', '000004': '0.09', '000005': '0.10'},\n",
       " '2017-01-23': {'000001': '0.45', '000004': '0.21', '000005': '0.14'},\n",
       " '2017-01-24': {'000001': '0.70', '000004': '0.33', '000005': '0.11'},\n",
       " '2017-01-25': {'000001': '0.65', '000004': '0.28', '000005': '0.13'},\n",
       " '2017-01-26': {'000001': '1.00', '000004': '0.29', '000005': '0.19'}}"
      ]
     },
     "execution_count": 8,
     "metadata": {},
     "output_type": "execute_result"
    }
   ],
   "source": [
    "user_dict"
   ]
  },
  {
   "cell_type": "markdown",
   "metadata": {},
   "source": [
    "    实际上这么做是没有意义的，所以这个想法也就到此为止了。  "
   ]
  },
  {
   "cell_type": "code",
   "execution_count": null,
   "metadata": {
    "collapsed": true
   },
   "outputs": [],
   "source": []
  }
 ],
 "metadata": {
  "kernelspec": {
   "display_name": "Python 3",
   "language": "python",
   "name": "python3"
  },
  "language_info": {
   "codemirror_mode": {
    "name": "ipython",
    "version": 3
   },
   "file_extension": ".py",
   "mimetype": "text/x-python",
   "name": "python",
   "nbconvert_exporter": "python",
   "pygments_lexer": "ipython3",
   "version": "3.6.0"
  }
 },
 "nbformat": 4,
 "nbformat_minor": 2
}
