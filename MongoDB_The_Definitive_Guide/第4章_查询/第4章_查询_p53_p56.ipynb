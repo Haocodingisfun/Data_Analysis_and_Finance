{
 "cells": [
  {
   "cell_type": "code",
   "execution_count": 1,
   "metadata": {
    "collapsed": true
   },
   "outputs": [],
   "source": [
    "import pymongo\n",
    "from pymongo import MongoClient\n",
    "from bson.objectid import ObjectId"
   ]
  },
  {
   "cell_type": "code",
   "execution_count": 2,
   "metadata": {
    "collapsed": false
   },
   "outputs": [],
   "source": [
    "db = MongoClient().test\n",
    "t = db.t"
   ]
  },
  {
   "cell_type": "markdown",
   "metadata": {},
   "source": [
    "# 4.1 find 简介"
   ]
  },
  {
   "cell_type": "code",
   "execution_count": 3,
   "metadata": {
    "collapsed": false
   },
   "outputs": [
    {
     "data": {
      "text/plain": [
       "[{'_id': ObjectId('59b0018b498ab128eddb941b'),\n",
       "  'email': 'joe@example.com',\n",
       "  'others': 'miss',\n",
       "  'username': 'joe'}]"
      ]
     },
     "execution_count": 3,
     "metadata": {},
     "output_type": "execute_result"
    }
   ],
   "source": [
    "[_ for _ in t.find({})]"
   ]
  },
  {
   "cell_type": "code",
   "execution_count": 4,
   "metadata": {
    "collapsed": false
   },
   "outputs": [
    {
     "data": {
      "text/plain": [
       "[]"
      ]
     },
     "execution_count": 4,
     "metadata": {},
     "output_type": "execute_result"
    }
   ],
   "source": [
    "[item for item in t.find({'priority': 0})]"
   ]
  },
  {
   "cell_type": "code",
   "execution_count": 5,
   "metadata": {
    "collapsed": true
   },
   "outputs": [],
   "source": [
    "r = t.find({'priority': 0,\n",
    "            'status': 'RUNNING'})"
   ]
  },
  {
   "cell_type": "code",
   "execution_count": 6,
   "metadata": {
    "collapsed": false
   },
   "outputs": [],
   "source": [
    "for item in r:\n",
    "    print(item)"
   ]
  },
  {
   "cell_type": "markdown",
   "metadata": {},
   "source": [
    "## 4.1.1 指定需要返回的键"
   ]
  },
  {
   "cell_type": "code",
   "execution_count": 7,
   "metadata": {
    "collapsed": false
   },
   "outputs": [
    {
     "name": "stdout",
     "output_type": "stream",
     "text": [
      "Help on method find_one in module pymongo.collection:\n",
      "\n",
      "find_one(filter=None, *args, **kwargs) method of pymongo.collection.Collection instance\n",
      "    Get a single document from the database.\n",
      "    \n",
      "    All arguments to :meth:`find` are also valid arguments for\n",
      "    :meth:`find_one`, although any `limit` argument will be\n",
      "    ignored. Returns a single document, or ``None`` if no matching\n",
      "    document is found.\n",
      "    \n",
      "    The :meth:`find_one` method obeys the :attr:`read_preference` of\n",
      "    this :class:`Collection`.\n",
      "    \n",
      "    :Parameters:\n",
      "    \n",
      "      - `filter` (optional): a dictionary specifying\n",
      "        the query to be performed OR any other type to be used as\n",
      "        the value for a query for ``\"_id\"``.\n",
      "    \n",
      "      - `*args` (optional): any additional positional arguments\n",
      "        are the same as the arguments to :meth:`find`.\n",
      "    \n",
      "      - `**kwargs` (optional): any additional keyword arguments\n",
      "        are the same as the arguments to :meth:`find`.\n",
      "    \n",
      "          >>> collection.find_one(max_time_ms=100)\n",
      "\n"
     ]
    }
   ],
   "source": [
    "help(t.find_one)"
   ]
  },
  {
   "cell_type": "code",
   "execution_count": 8,
   "metadata": {
    "collapsed": true
   },
   "outputs": [],
   "source": [
    "t.drop()"
   ]
  },
  {
   "cell_type": "code",
   "execution_count": 9,
   "metadata": {
    "collapsed": true
   },
   "outputs": [],
   "source": [
    "a = {'username': 'joe', \n",
    "     'email': 'joe@example.com',\n",
    "     'others': 'miss'}"
   ]
  },
  {
   "cell_type": "code",
   "execution_count": 10,
   "metadata": {
    "collapsed": false
   },
   "outputs": [
    {
     "data": {
      "text/plain": [
       "<pymongo.results.InsertOneResult at 0x10d8f4148>"
      ]
     },
     "execution_count": 10,
     "metadata": {},
     "output_type": "execute_result"
    }
   ],
   "source": [
    "t.insert_one(a)"
   ]
  },
  {
   "cell_type": "code",
   "execution_count": 11,
   "metadata": {
    "collapsed": false
   },
   "outputs": [
    {
     "data": {
      "text/plain": [
       "{'_id': ObjectId('59b0041b498ab129a8df09e9'),\n",
       " 'email': 'joe@example.com',\n",
       " 'others': 'miss',\n",
       " 'username': 'joe'}"
      ]
     },
     "execution_count": 11,
     "metadata": {},
     "output_type": "execute_result"
    }
   ],
   "source": [
    "t.find_one()"
   ]
  },
  {
   "cell_type": "code",
   "execution_count": 12,
   "metadata": {
    "collapsed": false
   },
   "outputs": [
    {
     "data": {
      "text/plain": [
       "{'_id': ObjectId('59b0041b498ab129a8df09e9'),\n",
       " 'email': 'joe@example.com',\n",
       " 'username': 'joe'}"
      ]
     },
     "execution_count": 12,
     "metadata": {},
     "output_type": "execute_result"
    }
   ],
   "source": [
    "t.find_one({},\n",
    "           {'username': 1,\n",
    "            'email': 1})"
   ]
  },
  {
   "cell_type": "code",
   "execution_count": 13,
   "metadata": {
    "collapsed": false,
    "scrolled": true
   },
   "outputs": [
    {
     "ename": "SyntaxError",
     "evalue": "invalid syntax (<ipython-input-13-48efc1013fb3>, line 1)",
     "output_type": "error",
     "traceback": [
      "\u001b[0;36m  File \u001b[0;32m\"<ipython-input-13-48efc1013fb3>\"\u001b[0;36m, line \u001b[0;32m1\u001b[0m\n\u001b[0;31m    t.find_one( ,\u001b[0m\n\u001b[0m                ^\u001b[0m\n\u001b[0;31mSyntaxError\u001b[0m\u001b[0;31m:\u001b[0m invalid syntax\n"
     ]
    }
   ],
   "source": [
    "t.find_one( ,\n",
    "           {'username': 1,\n",
    "            'email': 1})"
   ]
  },
  {
   "cell_type": "code",
   "execution_count": 14,
   "metadata": {
    "collapsed": false
   },
   "outputs": [
    {
     "data": {
      "text/plain": [
       "{'_id': ObjectId('59b0041b498ab129a8df09e9'),\n",
       " 'email': 'joe@example.com',\n",
       " 'username': 'joe'}"
      ]
     },
     "execution_count": 14,
     "metadata": {},
     "output_type": "execute_result"
    }
   ],
   "source": [
    "t.find_one({}, \n",
    "       {'others': 0})"
   ]
  },
  {
   "cell_type": "code",
   "execution_count": 15,
   "metadata": {
    "collapsed": false
   },
   "outputs": [
    {
     "data": {
      "text/plain": [
       "{'email': 'joe@example.com', 'username': 'joe'}"
      ]
     },
     "execution_count": 15,
     "metadata": {},
     "output_type": "execute_result"
    }
   ],
   "source": [
    "t.find_one({},\n",
    "           {'_id': 0,\n",
    "            'others': 0})"
   ]
  },
  {
   "cell_type": "markdown",
   "metadata": {},
   "source": [
    "## 4.1.2 限制"
   ]
  },
  {
   "cell_type": "markdown",
   "metadata": {},
   "source": [
    "    t.find_one({'in_stock': 0})"
   ]
  },
  {
   "cell_type": "markdown",
   "metadata": {},
   "source": [
    "# 4.2 查询条件"
   ]
  },
  {
   "cell_type": "markdown",
   "metadata": {},
   "source": [
    "## 4.2.1 查询条件"
   ]
  },
  {
   "cell_type": "code",
   "execution_count": 16,
   "metadata": {
    "collapsed": true
   },
   "outputs": [],
   "source": [
    "a = {'num': 1, 'age': 18}\n",
    "b = {'num': 2, 'age': 28}\n",
    "c = {'num': 4, 'age': 48}\n",
    "d = {'num': 5, 'age': 43}\n",
    "e = {'num': 6, 'age': 40}\n",
    "f = {'num': 4, 'age': 30}\n",
    "g = {'num': 7, 'age': 14}\n",
    "h = {'num': 8, 'age': 12}\n",
    "i = {'num': 1, 'age': 25}"
   ]
  },
  {
   "cell_type": "code",
   "execution_count": 17,
   "metadata": {
    "collapsed": false,
    "scrolled": true
   },
   "outputs": [
    {
     "data": {
      "text/plain": [
       "<pymongo.results.InsertManyResult at 0x10d917dc8>"
      ]
     },
     "execution_count": 17,
     "metadata": {},
     "output_type": "execute_result"
    }
   ],
   "source": [
    "t.drop()\n",
    "t.insert_many([a, b, c, d, e, f, g, h, i])"
   ]
  },
  {
   "cell_type": "code",
   "execution_count": 18,
   "metadata": {
    "collapsed": true
   },
   "outputs": [],
   "source": [
    "from pprint import pprint"
   ]
  },
  {
   "cell_type": "code",
   "execution_count": 20,
   "metadata": {
    "collapsed": false
   },
   "outputs": [
    {
     "name": "stdout",
     "output_type": "stream",
     "text": [
      "{'_id': ObjectId('59b00491498ab129a8df09ea'), 'age': 18, 'num': 1}\n",
      "{'_id': ObjectId('59b00491498ab129a8df09eb'), 'age': 28, 'num': 2}\n",
      "{'_id': ObjectId('59b00491498ab129a8df09ef'), 'age': 30, 'num': 4}\n",
      "{'_id': ObjectId('59b00491498ab129a8df09f2'), 'age': 25, 'num': 1}\n"
     ]
    }
   ],
   "source": [
    "for item in t.find({'age': {'$gte': 18, '$lte': 30}}):\n",
    "    pprint(item)"
   ]
  },
  {
   "cell_type": "code",
   "execution_count": 22,
   "metadata": {
    "collapsed": false
   },
   "outputs": [
    {
     "name": "stdout",
     "output_type": "stream",
     "text": [
      "{'_id': ObjectId('59b00491498ab129a8df09ea'), 'age': 18}\n",
      "{'_id': ObjectId('59b00491498ab129a8df09eb'), 'age': 28}\n",
      "{'_id': ObjectId('59b00491498ab129a8df09ef'), 'age': 30}\n",
      "{'_id': ObjectId('59b00491498ab129a8df09f2'), 'age': 25}\n"
     ]
    }
   ],
   "source": [
    "for item in t.find({'age': {'$gte': 18, '$lte': 30}},\n",
    "                   {'num': 0}):\n",
    "    pprint(item)"
   ]
  },
  {
   "cell_type": "code",
   "execution_count": 84,
   "metadata": {
    "collapsed": true
   },
   "outputs": [],
   "source": [
    "t.drop()"
   ]
  },
  {
   "cell_type": "code",
   "execution_count": 85,
   "metadata": {
    "collapsed": true
   },
   "outputs": [],
   "source": [
    "from datetime import datetime"
   ]
  },
  {
   "cell_type": "code",
   "execution_count": 86,
   "metadata": {
    "collapsed": false
   },
   "outputs": [
    {
     "data": {
      "text/plain": [
       "datetime.datetime"
      ]
     },
     "execution_count": 86,
     "metadata": {},
     "output_type": "execute_result"
    }
   ],
   "source": [
    "type(datetime.now())"
   ]
  },
  {
   "cell_type": "code",
   "execution_count": 87,
   "metadata": {
    "collapsed": false
   },
   "outputs": [
    {
     "data": {
      "text/plain": [
       "datetime.datetime(2017, 9, 6, 23, 7, 22, 76251)"
      ]
     },
     "execution_count": 87,
     "metadata": {},
     "output_type": "execute_result"
    }
   ],
   "source": [
    "datetime.now()"
   ]
  },
  {
   "cell_type": "code",
   "execution_count": 88,
   "metadata": {
    "collapsed": true
   },
   "outputs": [],
   "source": [
    "from dateutil.parser import parse"
   ]
  },
  {
   "cell_type": "code",
   "execution_count": 89,
   "metadata": {
    "collapsed": false
   },
   "outputs": [],
   "source": [
    "a = {'num': 1, 'datetime': datetime.now()}"
   ]
  },
  {
   "cell_type": "code",
   "execution_count": 90,
   "metadata": {
    "collapsed": false
   },
   "outputs": [],
   "source": [
    "b = {'num': 2, 'datetime': datetime.now()}"
   ]
  },
  {
   "cell_type": "code",
   "execution_count": 91,
   "metadata": {
    "collapsed": true
   },
   "outputs": [],
   "source": [
    "c = {'num': 3, 'datetime': datetime.now()}"
   ]
  },
  {
   "cell_type": "code",
   "execution_count": 92,
   "metadata": {
    "collapsed": false
   },
   "outputs": [
    {
     "data": {
      "text/plain": [
       "{'datetime': datetime.datetime(2017, 9, 6, 23, 7, 23, 563655), 'num': 3}"
      ]
     },
     "execution_count": 92,
     "metadata": {},
     "output_type": "execute_result"
    }
   ],
   "source": [
    "c"
   ]
  },
  {
   "cell_type": "code",
   "execution_count": 93,
   "metadata": {
    "collapsed": true
   },
   "outputs": [],
   "source": [
    "d = {'num': 4, 'datetime': datetime.now()}"
   ]
  },
  {
   "cell_type": "code",
   "execution_count": 94,
   "metadata": {
    "collapsed": true
   },
   "outputs": [],
   "source": [
    "e = {'num': 5, 'datetime': datetime.now()}"
   ]
  },
  {
   "cell_type": "code",
   "execution_count": 95,
   "metadata": {
    "collapsed": true
   },
   "outputs": [],
   "source": [
    "f = {'num': 6, 'datetime': datetime.now()}"
   ]
  },
  {
   "cell_type": "code",
   "execution_count": 96,
   "metadata": {
    "collapsed": true
   },
   "outputs": [],
   "source": [
    "g = {'num': 7, 'datetime': datetime.now()}"
   ]
  },
  {
   "cell_type": "code",
   "execution_count": 97,
   "metadata": {
    "collapsed": false,
    "scrolled": true
   },
   "outputs": [
    {
     "data": {
      "text/plain": [
       "<pymongo.results.InsertManyResult at 0x10da72c08>"
      ]
     },
     "execution_count": 97,
     "metadata": {},
     "output_type": "execute_result"
    }
   ],
   "source": [
    "t.insert_many([a, b, c, d, e, f, g])"
   ]
  },
  {
   "cell_type": "code",
   "execution_count": 101,
   "metadata": {
    "collapsed": false
   },
   "outputs": [
    {
     "data": {
      "text/plain": [
       "[{'_id': ObjectId('59b00f2e498ab129a8df09fa'),\n",
       "  'datetime': datetime.datetime(2017, 9, 6, 23, 7, 22, 915000),\n",
       "  'num': 1},\n",
       " {'_id': ObjectId('59b00f2e498ab129a8df09fb'),\n",
       "  'datetime': datetime.datetime(2017, 9, 6, 23, 7, 23, 271000),\n",
       "  'num': 2},\n",
       " {'_id': ObjectId('59b00f2e498ab129a8df09fc'),\n",
       "  'datetime': datetime.datetime(2017, 9, 6, 23, 7, 23, 563000),\n",
       "  'num': 3},\n",
       " {'_id': ObjectId('59b00f2e498ab129a8df09fd'),\n",
       "  'datetime': datetime.datetime(2017, 9, 6, 23, 7, 24, 536000),\n",
       "  'num': 4},\n",
       " {'_id': ObjectId('59b00f2e498ab129a8df09fe'),\n",
       "  'datetime': datetime.datetime(2017, 9, 6, 23, 7, 25, 308000),\n",
       "  'num': 5},\n",
       " {'_id': ObjectId('59b00f2e498ab129a8df09ff'),\n",
       "  'datetime': datetime.datetime(2017, 9, 6, 23, 7, 25, 770000),\n",
       "  'num': 6},\n",
       " {'_id': ObjectId('59b00f2e498ab129a8df0a00'),\n",
       "  'datetime': datetime.datetime(2017, 9, 6, 23, 7, 26, 91000),\n",
       "  'num': 7}]"
      ]
     },
     "execution_count": 101,
     "metadata": {},
     "output_type": "execute_result"
    }
   ],
   "source": [
    "[i for i in t.find()]"
   ]
  },
  {
   "cell_type": "code",
   "execution_count": 105,
   "metadata": {
    "collapsed": false
   },
   "outputs": [
    {
     "name": "stdout",
     "output_type": "stream",
     "text": [
      "{'_id': ObjectId('59b00f2e498ab129a8df09fa'),\n",
      " 'datetime': datetime.datetime(2017, 9, 6, 23, 7, 22, 915000),\n",
      " 'num': 1}\n",
      "{'_id': ObjectId('59b00f2e498ab129a8df09fb'),\n",
      " 'datetime': datetime.datetime(2017, 9, 6, 23, 7, 23, 271000),\n",
      " 'num': 2}\n"
     ]
    }
   ],
   "source": [
    "for item in t.find({'datetime': {'$lt': c['datetime']}}):\n",
    "    pprint(item)"
   ]
  },
  {
   "cell_type": "code",
   "execution_count": 107,
   "metadata": {
    "collapsed": false
   },
   "outputs": [
    {
     "name": "stdout",
     "output_type": "stream",
     "text": [
      "{'_id': ObjectId('59b00f2e498ab129a8df09fa'),\n",
      " 'datetime': datetime.datetime(2017, 9, 6, 23, 7, 22, 915000),\n",
      " 'num': 1}\n",
      "{'_id': ObjectId('59b00f2e498ab129a8df09fb'),\n",
      " 'datetime': datetime.datetime(2017, 9, 6, 23, 7, 23, 271000),\n",
      " 'num': 2}\n",
      "{'_id': ObjectId('59b00f2e498ab129a8df09fd'),\n",
      " 'datetime': datetime.datetime(2017, 9, 6, 23, 7, 24, 536000),\n",
      " 'num': 4}\n",
      "{'_id': ObjectId('59b00f2e498ab129a8df09fe'),\n",
      " 'datetime': datetime.datetime(2017, 9, 6, 23, 7, 25, 308000),\n",
      " 'num': 5}\n",
      "{'_id': ObjectId('59b00f2e498ab129a8df09ff'),\n",
      " 'datetime': datetime.datetime(2017, 9, 6, 23, 7, 25, 770000),\n",
      " 'num': 6}\n",
      "{'_id': ObjectId('59b00f2e498ab129a8df0a00'),\n",
      " 'datetime': datetime.datetime(2017, 9, 6, 23, 7, 26, 91000),\n",
      " 'num': 7}\n"
     ]
    }
   ],
   "source": [
    "for item in t.find({'num': {'$ne': 3}}):\n",
    "    pprint(item)"
   ]
  },
  {
   "cell_type": "markdown",
   "metadata": {},
   "source": [
    "## 4.2.2 OR 查询"
   ]
  },
  {
   "cell_type": "code",
   "execution_count": 108,
   "metadata": {
    "collapsed": true
   },
   "outputs": [],
   "source": [
    "t.drop()"
   ]
  },
  {
   "cell_type": "code",
   "execution_count": 109,
   "metadata": {
    "collapsed": true
   },
   "outputs": [],
   "source": [
    "a = [{'ticket_no': 1},\n",
    "     {'ticket_no': 2},\n",
    "     {'ticket_no': 3},\n",
    "     {'ticket_no': 4},\n",
    "     {'ticket_no': 5},\n",
    "     {'ticket_no': 6},\n",
    "     {'ticket_no': 7},\n",
    "     {'ticket_no': 8}]"
   ]
  },
  {
   "cell_type": "code",
   "execution_count": 110,
   "metadata": {
    "collapsed": false
   },
   "outputs": [
    {
     "data": {
      "text/plain": [
       "<pymongo.results.InsertManyResult at 0x10da80a48>"
      ]
     },
     "execution_count": 110,
     "metadata": {},
     "output_type": "execute_result"
    }
   ],
   "source": [
    "t.insert_many(a)"
   ]
  },
  {
   "cell_type": "code",
   "execution_count": 111,
   "metadata": {
    "collapsed": false
   },
   "outputs": [
    {
     "name": "stdout",
     "output_type": "stream",
     "text": [
      "{'_id': ObjectId('59b01103498ab129a8df0a01'), 'ticket_no': 1}\n",
      "{'_id': ObjectId('59b01103498ab129a8df0a02'), 'ticket_no': 2}\n",
      "{'_id': ObjectId('59b01103498ab129a8df0a03'), 'ticket_no': 3}\n"
     ]
    }
   ],
   "source": [
    "for item in t.find({'ticket_no': {'$in': [1, 2, 3]}}):\n",
    "    pprint(item)"
   ]
  },
  {
   "cell_type": "code",
   "execution_count": 112,
   "metadata": {
    "collapsed": false
   },
   "outputs": [
    {
     "data": {
      "text/plain": [
       "<pymongo.results.InsertOneResult at 0x10da80888>"
      ]
     },
     "execution_count": 112,
     "metadata": {},
     "output_type": "execute_result"
    }
   ],
   "source": [
    "t.insert_one({'ticket_no': 'miss'})"
   ]
  },
  {
   "cell_type": "code",
   "execution_count": 113,
   "metadata": {
    "collapsed": false
   },
   "outputs": [
    {
     "name": "stdout",
     "output_type": "stream",
     "text": [
      "{'_id': ObjectId('59b01103498ab129a8df0a01'), 'ticket_no': 1}\n",
      "{'_id': ObjectId('59b01103498ab129a8df0a02'), 'ticket_no': 2}\n",
      "{'_id': ObjectId('59b01103498ab129a8df0a03'), 'ticket_no': 3}\n",
      "{'_id': ObjectId('59b011e4498ab129a8df0a09'), 'ticket_no': 'miss'}\n"
     ]
    }
   ],
   "source": [
    "for item in t.find({'ticket_no': {'$in': [1, 2, 3, 'miss']}}):\n",
    "    pprint(item)"
   ]
  },
  {
   "cell_type": "code",
   "execution_count": 114,
   "metadata": {
    "collapsed": false
   },
   "outputs": [
    {
     "name": "stdout",
     "output_type": "stream",
     "text": [
      "{'_id': ObjectId('59b01103498ab129a8df0a04'), 'ticket_no': 4}\n",
      "{'_id': ObjectId('59b01103498ab129a8df0a05'), 'ticket_no': 5}\n",
      "{'_id': ObjectId('59b01103498ab129a8df0a06'), 'ticket_no': 6}\n",
      "{'_id': ObjectId('59b01103498ab129a8df0a07'), 'ticket_no': 7}\n",
      "{'_id': ObjectId('59b01103498ab129a8df0a08'), 'ticket_no': 8}\n"
     ]
    }
   ],
   "source": [
    "for item in t.find({'ticket_no': {'$nin': [1, 2, 3, 'miss']}}):\n",
    "    pprint(item)"
   ]
  },
  {
   "cell_type": "code",
   "execution_count": null,
   "metadata": {
    "collapsed": true
   },
   "outputs": [],
   "source": []
  }
 ],
 "metadata": {
  "kernelspec": {
   "display_name": "Python 3",
   "language": "python",
   "name": "python3"
  },
  "language_info": {
   "codemirror_mode": {
    "name": "ipython",
    "version": 3
   },
   "file_extension": ".py",
   "mimetype": "text/x-python",
   "name": "python",
   "nbconvert_exporter": "python",
   "pygments_lexer": "ipython3",
   "version": "3.6.0"
  }
 },
 "nbformat": 4,
 "nbformat_minor": 2
}
