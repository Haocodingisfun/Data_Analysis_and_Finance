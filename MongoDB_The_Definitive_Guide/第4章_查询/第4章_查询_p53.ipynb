{
 "cells": [
  {
   "cell_type": "code",
   "execution_count": 1,
   "metadata": {
    "collapsed": true
   },
   "outputs": [],
   "source": [
    "import pymongo\n",
    "from pymongo import MongoClient\n",
    "from bson.objectid import ObjectId"
   ]
  },
  {
   "cell_type": "code",
   "execution_count": 3,
   "metadata": {
    "collapsed": false
   },
   "outputs": [],
   "source": [
    "db = MongoClient().test\n",
    "t = db.t"
   ]
  },
  {
   "cell_type": "markdown",
   "metadata": {},
   "source": [
    "# 4.1 find 简介"
   ]
  },
  {
   "cell_type": "code",
   "execution_count": 6,
   "metadata": {
    "collapsed": false
   },
   "outputs": [
    {
     "data": {
      "text/plain": [
       "[{'_id': ObjectId('59affa22498ab1240384ba02'),\n",
       "  'priority': 0,\n",
       "  'status': 'RUNNING'},\n",
       " {'_id': ObjectId('59affa22498ab1240384ba03'),\n",
       "  'priority': 0,\n",
       "  'status': 'DONE'},\n",
       " {'_id': 1}]"
      ]
     },
     "execution_count": 6,
     "metadata": {},
     "output_type": "execute_result"
    }
   ],
   "source": [
    "[_ for _ in t.find({})]"
   ]
  },
  {
   "cell_type": "code",
   "execution_count": 12,
   "metadata": {
    "collapsed": false
   },
   "outputs": [
    {
     "data": {
      "text/plain": [
       "[{'_id': ObjectId('59affa22498ab1240384ba02'),\n",
       "  'priority': 0,\n",
       "  'status': 'RUNNING'},\n",
       " {'_id': ObjectId('59affa22498ab1240384ba03'),\n",
       "  'priority': 0,\n",
       "  'status': 'DONE'}]"
      ]
     },
     "execution_count": 12,
     "metadata": {},
     "output_type": "execute_result"
    }
   ],
   "source": [
    "[item for item in t.find({'priority': 0})]"
   ]
  },
  {
   "cell_type": "code",
   "execution_count": 13,
   "metadata": {
    "collapsed": true
   },
   "outputs": [],
   "source": [
    "r = t.find({'priority': 0,\n",
    "            'status': 'RUNNING'})"
   ]
  },
  {
   "cell_type": "code",
   "execution_count": 16,
   "metadata": {
    "collapsed": false
   },
   "outputs": [
    {
     "name": "stdout",
     "output_type": "stream",
     "text": [
      "{'_id': ObjectId('59affa22498ab1240384ba02'), 'status': 'RUNNING', 'priority': 0}\n"
     ]
    }
   ],
   "source": [
    "for item in r:\n",
    "    print(item)"
   ]
  },
  {
   "cell_type": "markdown",
   "metadata": {},
   "source": [
    "## 4.1.1 指定需要返回的键"
   ]
  },
  {
   "cell_type": "code",
   "execution_count": 17,
   "metadata": {
    "collapsed": false
   },
   "outputs": [
    {
     "name": "stdout",
     "output_type": "stream",
     "text": [
      "Help on method find_one in module pymongo.collection:\n",
      "\n",
      "find_one(filter=None, *args, **kwargs) method of pymongo.collection.Collection instance\n",
      "    Get a single document from the database.\n",
      "    \n",
      "    All arguments to :meth:`find` are also valid arguments for\n",
      "    :meth:`find_one`, although any `limit` argument will be\n",
      "    ignored. Returns a single document, or ``None`` if no matching\n",
      "    document is found.\n",
      "    \n",
      "    The :meth:`find_one` method obeys the :attr:`read_preference` of\n",
      "    this :class:`Collection`.\n",
      "    \n",
      "    :Parameters:\n",
      "    \n",
      "      - `filter` (optional): a dictionary specifying\n",
      "        the query to be performed OR any other type to be used as\n",
      "        the value for a query for ``\"_id\"``.\n",
      "    \n",
      "      - `*args` (optional): any additional positional arguments\n",
      "        are the same as the arguments to :meth:`find`.\n",
      "    \n",
      "      - `**kwargs` (optional): any additional keyword arguments\n",
      "        are the same as the arguments to :meth:`find`.\n",
      "    \n",
      "          >>> collection.find_one(max_time_ms=100)\n",
      "\n"
     ]
    }
   ],
   "source": [
    "help(t.find_one)"
   ]
  },
  {
   "cell_type": "code",
   "execution_count": 18,
   "metadata": {
    "collapsed": true
   },
   "outputs": [],
   "source": [
    "t.drop()"
   ]
  },
  {
   "cell_type": "code",
   "execution_count": 19,
   "metadata": {
    "collapsed": true
   },
   "outputs": [],
   "source": [
    "a = {'username': 'joe', \n",
    "     'email': 'joe@example.com',\n",
    "     'others': 'miss'}"
   ]
  },
  {
   "cell_type": "code",
   "execution_count": 20,
   "metadata": {
    "collapsed": false
   },
   "outputs": [
    {
     "data": {
      "text/plain": [
       "<pymongo.results.InsertOneResult at 0x104ce9908>"
      ]
     },
     "execution_count": 20,
     "metadata": {},
     "output_type": "execute_result"
    }
   ],
   "source": [
    "t.insert_one(a)"
   ]
  },
  {
   "cell_type": "code",
   "execution_count": 22,
   "metadata": {
    "collapsed": false
   },
   "outputs": [
    {
     "data": {
      "text/plain": [
       "{'_id': ObjectId('59b0018b498ab128eddb941b'),\n",
       " 'email': 'joe@example.com',\n",
       " 'others': 'miss',\n",
       " 'username': 'joe'}"
      ]
     },
     "execution_count": 22,
     "metadata": {},
     "output_type": "execute_result"
    }
   ],
   "source": [
    "t.find_one()"
   ]
  },
  {
   "cell_type": "code",
   "execution_count": 23,
   "metadata": {
    "collapsed": false
   },
   "outputs": [
    {
     "data": {
      "text/plain": [
       "{'_id': ObjectId('59b0018b498ab128eddb941b'),\n",
       " 'email': 'joe@example.com',\n",
       " 'username': 'joe'}"
      ]
     },
     "execution_count": 23,
     "metadata": {},
     "output_type": "execute_result"
    }
   ],
   "source": [
    "t.find_one({},\n",
    "           {'username': 1,\n",
    "            'email': 1})"
   ]
  },
  {
   "cell_type": "code",
   "execution_count": 25,
   "metadata": {
    "collapsed": false,
    "scrolled": true
   },
   "outputs": [
    {
     "ename": "SyntaxError",
     "evalue": "invalid syntax (<ipython-input-25-48efc1013fb3>, line 1)",
     "output_type": "error",
     "traceback": [
      "\u001b[0;36m  File \u001b[0;32m\"<ipython-input-25-48efc1013fb3>\"\u001b[0;36m, line \u001b[0;32m1\u001b[0m\n\u001b[0;31m    t.find_one( ,\u001b[0m\n\u001b[0m                ^\u001b[0m\n\u001b[0;31mSyntaxError\u001b[0m\u001b[0;31m:\u001b[0m invalid syntax\n"
     ]
    }
   ],
   "source": [
    "t.find_one( ,\n",
    "           {'username': 1,\n",
    "            'email': 1})"
   ]
  },
  {
   "cell_type": "code",
   "execution_count": 27,
   "metadata": {
    "collapsed": false
   },
   "outputs": [
    {
     "data": {
      "text/plain": [
       "{'_id': ObjectId('59b0018b498ab128eddb941b'),\n",
       " 'email': 'joe@example.com',\n",
       " 'username': 'joe'}"
      ]
     },
     "execution_count": 27,
     "metadata": {},
     "output_type": "execute_result"
    }
   ],
   "source": [
    "t.find_one({}, \n",
    "       {'others': 0})"
   ]
  },
  {
   "cell_type": "code",
   "execution_count": 28,
   "metadata": {
    "collapsed": false
   },
   "outputs": [
    {
     "data": {
      "text/plain": [
       "{'email': 'joe@example.com', 'username': 'joe'}"
      ]
     },
     "execution_count": 28,
     "metadata": {},
     "output_type": "execute_result"
    }
   ],
   "source": [
    "t.find_one({},\n",
    "           {'_id': 0,\n",
    "            'others': 0})"
   ]
  },
  {
   "cell_type": "markdown",
   "metadata": {},
   "source": [
    "## 4.1.2 限制"
   ]
  },
  {
   "cell_type": "markdown",
   "metadata": {},
   "source": [
    "    t.find_one({'in_stock': 0})"
   ]
  },
  {
   "cell_type": "markdown",
   "metadata": {},
   "source": [
    "# 4.2 查询条件"
   ]
  },
  {
   "cell_type": "markdown",
   "metadata": {},
   "source": [
    "## 4.2.1 查询条件"
   ]
  },
  {
   "cell_type": "code",
   "execution_count": null,
   "metadata": {
    "collapsed": true
   },
   "outputs": [],
   "source": []
  }
 ],
 "metadata": {
  "kernelspec": {
   "display_name": "Python 3",
   "language": "python",
   "name": "python3"
  },
  "language_info": {
   "codemirror_mode": {
    "name": "ipython",
    "version": 3
   },
   "file_extension": ".py",
   "mimetype": "text/x-python",
   "name": "python",
   "nbconvert_exporter": "python",
   "pygments_lexer": "ipython3",
   "version": "3.6.0"
  }
 },
 "nbformat": 4,
 "nbformat_minor": 2
}
