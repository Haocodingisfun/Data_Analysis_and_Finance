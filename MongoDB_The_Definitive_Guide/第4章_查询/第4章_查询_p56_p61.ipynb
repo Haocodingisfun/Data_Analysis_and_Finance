{
 "cells": [
  {
   "cell_type": "code",
   "execution_count": 1,
   "metadata": {
    "collapsed": true
   },
   "outputs": [],
   "source": [
    "from pymongo import MongoClient\n",
    "from bson.objectid import ObjectId"
   ]
  },
  {
   "cell_type": "code",
   "execution_count": 2,
   "metadata": {
    "collapsed": true
   },
   "outputs": [],
   "source": [
    "db = MongoClient().test"
   ]
  },
  {
   "cell_type": "code",
   "execution_count": 4,
   "metadata": {
    "collapsed": false
   },
   "outputs": [],
   "source": [
    "t = db.t"
   ]
  },
  {
   "cell_type": "code",
   "execution_count": 5,
   "metadata": {
    "collapsed": false
   },
   "outputs": [
    {
     "data": {
      "text/plain": [
       "Collection(Database(MongoClient(host=['localhost:27017'], document_class=dict, tz_aware=False, connect=True), 'test'), 't')"
      ]
     },
     "execution_count": 5,
     "metadata": {},
     "output_type": "execute_result"
    }
   ],
   "source": [
    "t"
   ]
  },
  {
   "cell_type": "code",
   "execution_count": 6,
   "metadata": {
    "collapsed": false
   },
   "outputs": [
    {
     "data": {
      "text/plain": [
       "[{'_id': ObjectId('59b01103498ab129a8df0a01'), 'ticket_no': 1},\n",
       " {'_id': ObjectId('59b01103498ab129a8df0a02'), 'ticket_no': 2},\n",
       " {'_id': ObjectId('59b01103498ab129a8df0a03'), 'ticket_no': 3},\n",
       " {'_id': ObjectId('59b01103498ab129a8df0a04'), 'ticket_no': 4},\n",
       " {'_id': ObjectId('59b01103498ab129a8df0a05'), 'ticket_no': 5},\n",
       " {'_id': ObjectId('59b01103498ab129a8df0a06'), 'ticket_no': 6},\n",
       " {'_id': ObjectId('59b01103498ab129a8df0a07'), 'ticket_no': 7},\n",
       " {'_id': ObjectId('59b01103498ab129a8df0a08'), 'ticket_no': 8},\n",
       " {'_id': ObjectId('59b011e4498ab129a8df0a09'), 'ticket_no': 'miss'}]"
      ]
     },
     "execution_count": 6,
     "metadata": {},
     "output_type": "execute_result"
    }
   ],
   "source": [
    "[_ for _ in t.find()]"
   ]
  },
  {
   "cell_type": "code",
   "execution_count": 7,
   "metadata": {
    "collapsed": true
   },
   "outputs": [],
   "source": [
    "t.drop()"
   ]
  },
  {
   "cell_type": "code",
   "execution_count": 8,
   "metadata": {
    "collapsed": true
   },
   "outputs": [],
   "source": [
    "a = [{'ticket_no': 1, 'winner': True},\n",
    "     {'ticket_no': 2, 'winner': False}, \n",
    "     {'ticket_no': 3, 'winner': True}, \n",
    "     {'ticket_no': 4, 'winner': False},\n",
    "     {'ticket_no': 5, 'winner': True}, \n",
    "     {'ticket_no': 'miss', 'winner': False}]"
   ]
  },
  {
   "cell_type": "code",
   "execution_count": 9,
   "metadata": {
    "collapsed": false
   },
   "outputs": [
    {
     "data": {
      "text/plain": [
       "<pymongo.results.InsertManyResult at 0x10942bcc8>"
      ]
     },
     "execution_count": 9,
     "metadata": {},
     "output_type": "execute_result"
    }
   ],
   "source": [
    "t.insert_many(a)"
   ]
  },
  {
   "cell_type": "code",
   "execution_count": 10,
   "metadata": {
    "collapsed": false
   },
   "outputs": [
    {
     "data": {
      "text/plain": [
       "[{'_id': ObjectId('59b0904d498ab12b3fb62a7c'), 'ticket_no': 1, 'winner': True},\n",
       " {'_id': ObjectId('59b0904d498ab12b3fb62a7d'),\n",
       "  'ticket_no': 2,\n",
       "  'winner': False},\n",
       " {'_id': ObjectId('59b0904d498ab12b3fb62a7e'), 'ticket_no': 3, 'winner': True},\n",
       " {'_id': ObjectId('59b0904d498ab12b3fb62a7f'),\n",
       "  'ticket_no': 4,\n",
       "  'winner': False},\n",
       " {'_id': ObjectId('59b0904d498ab12b3fb62a80'), 'ticket_no': 5, 'winner': True},\n",
       " {'_id': ObjectId('59b0904d498ab12b3fb62a81'),\n",
       "  'ticket_no': 'miss',\n",
       "  'winner': False}]"
      ]
     },
     "execution_count": 10,
     "metadata": {},
     "output_type": "execute_result"
    }
   ],
   "source": [
    "[_ for _ in t.find()]"
   ]
  },
  {
   "cell_type": "code",
   "execution_count": 11,
   "metadata": {
    "collapsed": false
   },
   "outputs": [
    {
     "name": "stdout",
     "output_type": "stream",
     "text": [
      "{'_id': ObjectId('59b0904d498ab12b3fb62a7c'), 'ticket_no': 1, 'winner': True}\n",
      "{'_id': ObjectId('59b0904d498ab12b3fb62a7e'), 'ticket_no': 3, 'winner': True}\n",
      "{'_id': ObjectId('59b0904d498ab12b3fb62a80'), 'ticket_no': 5, 'winner': True}\n",
      "{'_id': ObjectId('59b0904d498ab12b3fb62a81'), 'ticket_no': 'miss', 'winner': False}\n"
     ]
    }
   ],
   "source": [
    "for item in t.find({'$or': [{\"ticket_no\": 'miss'}, {'winner': True}]}):\n",
    "    print(item)"
   ]
  },
  {
   "cell_type": "code",
   "execution_count": 15,
   "metadata": {
    "collapsed": false
   },
   "outputs": [
    {
     "name": "stdout",
     "output_type": "stream",
     "text": [
      "{'_id': ObjectId('59b0904d498ab12b3fb62a7c'), 'ticket_no': 1, 'winner': True}\n",
      "{'_id': ObjectId('59b0904d498ab12b3fb62a7e'), 'ticket_no': 3, 'winner': True}\n",
      "{'_id': ObjectId('59b0904d498ab12b3fb62a80'), 'ticket_no': 5, 'winner': True}\n",
      "{'_id': ObjectId('59b0904d498ab12b3fb62a81'), 'ticket_no': 'miss', 'winner': False}\n"
     ]
    }
   ],
   "source": [
    "for item in t.find({'$or': [{'ticket_no': {'$in': [1, 'miss']}}, {'winner': True}]}):\n",
    "    print(item)"
   ]
  },
  {
   "cell_type": "markdown",
   "metadata": {},
   "source": [
    "## 4.2.3 ```$not```"
   ]
  },
  {
   "cell_type": "code",
   "execution_count": 16,
   "metadata": {
    "collapsed": true
   },
   "outputs": [],
   "source": [
    "b = [{'id_num': 1},\n",
    "     {'id_num': 2},\n",
    "     {'id_num': 3},\n",
    "     {'id_num': 4},\n",
    "     {'id_num': 5},\n",
    "     {'id_num': 6},\n",
    "     {'id_num': 7}]"
   ]
  },
  {
   "cell_type": "code",
   "execution_count": 17,
   "metadata": {
    "collapsed": false
   },
   "outputs": [
    {
     "data": {
      "text/plain": [
       "<pymongo.results.InsertManyResult at 0x109466488>"
      ]
     },
     "execution_count": 17,
     "metadata": {},
     "output_type": "execute_result"
    }
   ],
   "source": [
    "t.insert_many(b)"
   ]
  },
  {
   "cell_type": "code",
   "execution_count": 21,
   "metadata": {
    "collapsed": false
   },
   "outputs": [
    {
     "data": {
      "text/plain": [
       "[{'_id': ObjectId('59b0904d498ab12b3fb62a7c'), 'ticket_no': 1, 'winner': True},\n",
       " {'_id': ObjectId('59b0904d498ab12b3fb62a7d'),\n",
       "  'ticket_no': 2,\n",
       "  'winner': False},\n",
       " {'_id': ObjectId('59b0904d498ab12b3fb62a7e'), 'ticket_no': 3, 'winner': True},\n",
       " {'_id': ObjectId('59b0904d498ab12b3fb62a7f'),\n",
       "  'ticket_no': 4,\n",
       "  'winner': False},\n",
       " {'_id': ObjectId('59b0904d498ab12b3fb62a80'), 'ticket_no': 5, 'winner': True},\n",
       " {'_id': ObjectId('59b0904d498ab12b3fb62a81'),\n",
       "  'ticket_no': 'miss',\n",
       "  'winner': False},\n",
       " {'_id': ObjectId('59b0927a498ab12b3fb62a82'), 'id_num': 1},\n",
       " {'_id': ObjectId('59b0927a498ab12b3fb62a83'), 'id_num': 2},\n",
       " {'_id': ObjectId('59b0927a498ab12b3fb62a84'), 'id_num': 3},\n",
       " {'_id': ObjectId('59b0927a498ab12b3fb62a85'), 'id_num': 4},\n",
       " {'_id': ObjectId('59b0927a498ab12b3fb62a86'), 'id_num': 5},\n",
       " {'_id': ObjectId('59b0927a498ab12b3fb62a87'), 'id_num': 6},\n",
       " {'_id': ObjectId('59b0927a498ab12b3fb62a88'), 'id_num': 7}]"
      ]
     },
     "execution_count": 21,
     "metadata": {},
     "output_type": "execute_result"
    }
   ],
   "source": [
    "[_ for _ in t.find()]"
   ]
  },
  {
   "cell_type": "code",
   "execution_count": 22,
   "metadata": {
    "collapsed": false
   },
   "outputs": [
    {
     "name": "stdout",
     "output_type": "stream",
     "text": [
      "{'_id': ObjectId('59b0927a498ab12b3fb62a82'), 'id_num': 1}\n",
      "{'_id': ObjectId('59b0927a498ab12b3fb62a87'), 'id_num': 6}\n"
     ]
    }
   ],
   "source": [
    "for item in t.find({'id_num': {'$mod': [5, 1]}}):\n",
    "    print(item)"
   ]
  },
  {
   "cell_type": "code",
   "execution_count": 23,
   "metadata": {
    "collapsed": false
   },
   "outputs": [
    {
     "name": "stdout",
     "output_type": "stream",
     "text": [
      "{'_id': ObjectId('59b0904d498ab12b3fb62a7c'), 'ticket_no': 1, 'winner': True}\n",
      "{'_id': ObjectId('59b0904d498ab12b3fb62a7d'), 'ticket_no': 2, 'winner': False}\n",
      "{'_id': ObjectId('59b0904d498ab12b3fb62a7e'), 'ticket_no': 3, 'winner': True}\n",
      "{'_id': ObjectId('59b0904d498ab12b3fb62a7f'), 'ticket_no': 4, 'winner': False}\n",
      "{'_id': ObjectId('59b0904d498ab12b3fb62a80'), 'ticket_no': 5, 'winner': True}\n",
      "{'_id': ObjectId('59b0904d498ab12b3fb62a81'), 'ticket_no': 'miss', 'winner': False}\n",
      "{'_id': ObjectId('59b0927a498ab12b3fb62a83'), 'id_num': 2}\n",
      "{'_id': ObjectId('59b0927a498ab12b3fb62a84'), 'id_num': 3}\n",
      "{'_id': ObjectId('59b0927a498ab12b3fb62a85'), 'id_num': 4}\n",
      "{'_id': ObjectId('59b0927a498ab12b3fb62a86'), 'id_num': 5}\n",
      "{'_id': ObjectId('59b0927a498ab12b3fb62a88'), 'id_num': 7}\n"
     ]
    }
   ],
   "source": [
    "for item in t.find({'id_num': {'$not': {'$mod': [5, 1]}}}):\n",
    "    print(item)"
   ]
  },
  {
   "cell_type": "markdown",
   "metadata": {},
   "source": [
    "## 4.3.4 条件语义"
   ]
  },
  {
   "cell_type": "code",
   "execution_count": 24,
   "metadata": {
    "collapsed": false
   },
   "outputs": [
    {
     "name": "stdout",
     "output_type": "stream",
     "text": [
      "{'_id': ObjectId('59b0927a498ab12b3fb62a83'), 'id_num': 2}\n",
      "{'_id': ObjectId('59b0927a498ab12b3fb62a84'), 'id_num': 3}\n",
      "{'_id': ObjectId('59b0927a498ab12b3fb62a85'), 'id_num': 4}\n"
     ]
    }
   ],
   "source": [
    "for item in t.find({'id_num': {'$gt': 1, '$lt': 5}}):\n",
    "    print(item)"
   ]
  },
  {
   "cell_type": "code",
   "execution_count": 30,
   "metadata": {
    "collapsed": false
   },
   "outputs": [
    {
     "name": "stdout",
     "output_type": "stream",
     "text": [
      "{'_id': ObjectId('59b0904d498ab12b3fb62a7e'), 'ticket_no': 3, 'winner': True}\n",
      "{'_id': ObjectId('59b0904d498ab12b3fb62a80'), 'ticket_no': 5, 'winner': True}\n"
     ]
    }
   ],
   "source": [
    "for item in t.find({'$and': [{'ticket_no': {'$gt': 1}}, {'winner': True}]}):\n",
    "    print(item)"
   ]
  },
  {
   "cell_type": "code",
   "execution_count": 32,
   "metadata": {
    "collapsed": false
   },
   "outputs": [
    {
     "name": "stdout",
     "output_type": "stream",
     "text": [
      "{'_id': ObjectId('59b0927a498ab12b3fb62a82'), 'id_num': 1}\n",
      "{'_id': ObjectId('59b0927a498ab12b3fb62a84'), 'id_num': 3}\n"
     ]
    }
   ],
   "source": [
    "for item in t.find({'id_num': {'$lt': 6, '$in': [1, 3]}}):\n",
    "    print(item)"
   ]
  },
  {
   "cell_type": "markdown",
   "metadata": {},
   "source": [
    "# 4.3 特定类型的查询"
   ]
  },
  {
   "cell_type": "markdown",
   "metadata": {},
   "source": [
    "## 4.3.1 ```null```"
   ]
  },
  {
   "cell_type": "code",
   "execution_count": 37,
   "metadata": {
    "collapsed": false
   },
   "outputs": [],
   "source": [
    "c = [{'y': None}, {'y': 1}, {'y': 2}]"
   ]
  },
  {
   "cell_type": "code",
   "execution_count": 38,
   "metadata": {
    "collapsed": false
   },
   "outputs": [
    {
     "data": {
      "text/plain": [
       "<pymongo.results.InsertManyResult at 0x109421088>"
      ]
     },
     "execution_count": 38,
     "metadata": {},
     "output_type": "execute_result"
    }
   ],
   "source": [
    "t.insert_many(c)"
   ]
  },
  {
   "cell_type": "code",
   "execution_count": 46,
   "metadata": {
    "collapsed": false
   },
   "outputs": [
    {
     "data": {
      "text/plain": [
       "[{'_id': ObjectId('59b0904d498ab12b3fb62a7c'), 'ticket_no': 1, 'winner': True},\n",
       " {'_id': ObjectId('59b0904d498ab12b3fb62a7d'),\n",
       "  'ticket_no': 2,\n",
       "  'winner': False},\n",
       " {'_id': ObjectId('59b0904d498ab12b3fb62a7e'), 'ticket_no': 3, 'winner': True},\n",
       " {'_id': ObjectId('59b0904d498ab12b3fb62a7f'),\n",
       "  'ticket_no': 4,\n",
       "  'winner': False},\n",
       " {'_id': ObjectId('59b0904d498ab12b3fb62a80'), 'ticket_no': 5, 'winner': True},\n",
       " {'_id': ObjectId('59b0904d498ab12b3fb62a81'),\n",
       "  'ticket_no': 'miss',\n",
       "  'winner': False},\n",
       " {'_id': ObjectId('59b0927a498ab12b3fb62a82'), 'id_num': 1},\n",
       " {'_id': ObjectId('59b0927a498ab12b3fb62a83'), 'id_num': 2},\n",
       " {'_id': ObjectId('59b0927a498ab12b3fb62a84'), 'id_num': 3},\n",
       " {'_id': ObjectId('59b0927a498ab12b3fb62a85'), 'id_num': 4},\n",
       " {'_id': ObjectId('59b0927a498ab12b3fb62a86'), 'id_num': 5},\n",
       " {'_id': ObjectId('59b0927a498ab12b3fb62a87'), 'id_num': 6},\n",
       " {'_id': ObjectId('59b0927a498ab12b3fb62a88'), 'id_num': 7},\n",
       " {'_id': ObjectId('59b096b1498ab12b3fb62a8c'), 'y': None}]"
      ]
     },
     "execution_count": 46,
     "metadata": {},
     "output_type": "execute_result"
    }
   ],
   "source": [
    "list(t.find({'y': None}))"
   ]
  },
  {
   "cell_type": "code",
   "execution_count": 48,
   "metadata": {
    "collapsed": false
   },
   "outputs": [
    {
     "data": {
      "text/plain": [
       "[{'_id': ObjectId('59b096b1498ab12b3fb62a8c'), 'y': None}]"
      ]
     },
     "execution_count": 48,
     "metadata": {},
     "output_type": "execute_result"
    }
   ],
   "source": [
    "list(t.find({'y': {'$in': [None], '$exists': True}}))"
   ]
  },
  {
   "cell_type": "code",
   "execution_count": 49,
   "metadata": {
    "collapsed": false
   },
   "outputs": [
    {
     "data": {
      "text/plain": [
       "[{'_id': ObjectId('59b0904d498ab12b3fb62a7c'), 'ticket_no': 1, 'winner': True},\n",
       " {'_id': ObjectId('59b0904d498ab12b3fb62a7d'),\n",
       "  'ticket_no': 2,\n",
       "  'winner': False},\n",
       " {'_id': ObjectId('59b0904d498ab12b3fb62a7e'), 'ticket_no': 3, 'winner': True},\n",
       " {'_id': ObjectId('59b0904d498ab12b3fb62a7f'),\n",
       "  'ticket_no': 4,\n",
       "  'winner': False},\n",
       " {'_id': ObjectId('59b0904d498ab12b3fb62a80'), 'ticket_no': 5, 'winner': True},\n",
       " {'_id': ObjectId('59b0904d498ab12b3fb62a81'),\n",
       "  'ticket_no': 'miss',\n",
       "  'winner': False},\n",
       " {'_id': ObjectId('59b0927a498ab12b3fb62a82'), 'id_num': 1},\n",
       " {'_id': ObjectId('59b0927a498ab12b3fb62a83'), 'id_num': 2},\n",
       " {'_id': ObjectId('59b0927a498ab12b3fb62a84'), 'id_num': 3},\n",
       " {'_id': ObjectId('59b0927a498ab12b3fb62a85'), 'id_num': 4},\n",
       " {'_id': ObjectId('59b0927a498ab12b3fb62a86'), 'id_num': 5},\n",
       " {'_id': ObjectId('59b0927a498ab12b3fb62a87'), 'id_num': 6},\n",
       " {'_id': ObjectId('59b0927a498ab12b3fb62a88'), 'id_num': 7},\n",
       " {'_id': ObjectId('59b096b1498ab12b3fb62a8c'), 'y': None}]"
      ]
     },
     "execution_count": 49,
     "metadata": {},
     "output_type": "execute_result"
    }
   ],
   "source": [
    "list(t.find({'y': {'$in': [None]}}))"
   ]
  },
  {
   "cell_type": "markdown",
   "metadata": {},
   "source": [
    "## 4.3.2 正则表达式"
   ]
  },
  {
   "cell_type": "code",
   "execution_count": 50,
   "metadata": {
    "collapsed": false
   },
   "outputs": [
    {
     "data": {
      "text/plain": [
       "<pymongo.results.InsertOneResult at 0x1093bf1c8>"
      ]
     },
     "execution_count": 50,
     "metadata": {},
     "output_type": "execute_result"
    }
   ],
   "source": [
    "t.insert_one({'name': 'joe'})"
   ]
  },
  {
   "cell_type": "code",
   "execution_count": 51,
   "metadata": {
    "collapsed": false
   },
   "outputs": [
    {
     "data": {
      "text/plain": [
       "<pymongo.results.InsertOneResult at 0x10945f648>"
      ]
     },
     "execution_count": 51,
     "metadata": {},
     "output_type": "execute_result"
    }
   ],
   "source": [
    "t.insert_one({'name': 'joey'})"
   ]
  },
  {
   "cell_type": "code",
   "execution_count": 53,
   "metadata": {
    "collapsed": false
   },
   "outputs": [
    {
     "data": {
      "text/plain": [
       "[{'_id': ObjectId('59b09a16498ab12b3fb62a8f'), 'name': 'joe'},\n",
       " {'_id': ObjectId('59b09a1e498ab12b3fb62a90'), 'name': 'joey'}]"
      ]
     },
     "execution_count": 53,
     "metadata": {},
     "output_type": "execute_result"
    }
   ],
   "source": [
    "list(t.find({'name': {'$regex': 'joe'}}))"
   ]
  },
  {
   "cell_type": "code",
   "execution_count": 56,
   "metadata": {
    "collapsed": false
   },
   "outputs": [
    {
     "data": {
      "text/plain": [
       "<pymongo.results.InsertOneResult at 0x10948dc88>"
      ]
     },
     "execution_count": 56,
     "metadata": {},
     "output_type": "execute_result"
    }
   ],
   "source": [
    "t.insert_one({'name': {'regex': 'wang'}})"
   ]
  },
  {
   "cell_type": "code",
   "execution_count": 57,
   "metadata": {
    "collapsed": false,
    "scrolled": false
   },
   "outputs": [
    {
     "data": {
      "text/plain": [
       "[{'_id': ObjectId('59b0904d498ab12b3fb62a7c'), 'ticket_no': 1, 'winner': True},\n",
       " {'_id': ObjectId('59b0904d498ab12b3fb62a7d'),\n",
       "  'ticket_no': 2,\n",
       "  'winner': False},\n",
       " {'_id': ObjectId('59b0904d498ab12b3fb62a7e'), 'ticket_no': 3, 'winner': True},\n",
       " {'_id': ObjectId('59b0904d498ab12b3fb62a7f'),\n",
       "  'ticket_no': 4,\n",
       "  'winner': False},\n",
       " {'_id': ObjectId('59b0904d498ab12b3fb62a80'), 'ticket_no': 5, 'winner': True},\n",
       " {'_id': ObjectId('59b0904d498ab12b3fb62a81'),\n",
       "  'ticket_no': 'miss',\n",
       "  'winner': False},\n",
       " {'_id': ObjectId('59b0927a498ab12b3fb62a82'), 'id_num': 1},\n",
       " {'_id': ObjectId('59b0927a498ab12b3fb62a83'), 'id_num': 2},\n",
       " {'_id': ObjectId('59b0927a498ab12b3fb62a84'), 'id_num': 3},\n",
       " {'_id': ObjectId('59b0927a498ab12b3fb62a85'), 'id_num': 4},\n",
       " {'_id': ObjectId('59b0927a498ab12b3fb62a86'), 'id_num': 5},\n",
       " {'_id': ObjectId('59b0927a498ab12b3fb62a87'), 'id_num': 6},\n",
       " {'_id': ObjectId('59b0927a498ab12b3fb62a88'), 'id_num': 7},\n",
       " {'_id': ObjectId('59b09658498ab12b3fb62a89'), 'y': 'null'},\n",
       " {'_id': ObjectId('59b09658498ab12b3fb62a8a'), 'y': 1},\n",
       " {'_id': ObjectId('59b09658498ab12b3fb62a8b'), 'y': 2},\n",
       " {'_id': ObjectId('59b096b1498ab12b3fb62a8c'), 'y': None},\n",
       " {'_id': ObjectId('59b096b1498ab12b3fb62a8d'), 'y': 1},\n",
       " {'_id': ObjectId('59b096b1498ab12b3fb62a8e'), 'y': 2},\n",
       " {'_id': ObjectId('59b09a16498ab12b3fb62a8f'), 'name': 'joe'},\n",
       " {'_id': ObjectId('59b09a1e498ab12b3fb62a90'), 'name': 'joey'},\n",
       " {'_id': ObjectId('59b09b26498ab12b3fb62a92'), 'name': {'regex': 'wang'}}]"
      ]
     },
     "execution_count": 57,
     "metadata": {},
     "output_type": "execute_result"
    }
   ],
   "source": [
    "list(t.find())"
   ]
  },
  {
   "cell_type": "markdown",
   "metadata": {},
   "source": [
    "### 发现 pymongo 无法直接插入正则表达式"
   ]
  },
  {
   "cell_type": "code",
   "execution_count": 60,
   "metadata": {
    "collapsed": false
   },
   "outputs": [
    {
     "ename": "TypeError",
     "evalue": "unhashable type: 'list'",
     "output_type": "error",
     "traceback": [
      "\u001b[0;31m---------------------------------------------------------------------------\u001b[0m",
      "\u001b[0;31mTypeError\u001b[0m                                 Traceback (most recent call last)",
      "\u001b[0;32m<ipython-input-60-12526eff08e6>\u001b[0m in \u001b[0;36m<module>\u001b[0;34m()\u001b[0m\n\u001b[1;32m      1\u001b[0m \u001b[0;32mimport\u001b[0m \u001b[0mre\u001b[0m\u001b[0;34m\u001b[0m\u001b[0m\n\u001b[0;32m----> 2\u001b[0;31m \u001b[0mt\u001b[0m\u001b[0;34m.\u001b[0m\u001b[0minsert_one\u001b[0m\u001b[0;34m(\u001b[0m\u001b[0;34m{\u001b[0m\u001b[0;34m'name'\u001b[0m\u001b[0;34m:\u001b[0m \u001b[0mre\u001b[0m\u001b[0;34m.\u001b[0m\u001b[0mcompile\u001b[0m\u001b[0;34m(\u001b[0m\u001b[0ma\u001b[0m\u001b[0;34m)\u001b[0m\u001b[0;34m}\u001b[0m\u001b[0;34m)\u001b[0m\u001b[0;34m\u001b[0m\u001b[0m\n\u001b[0m",
      "\u001b[0;32m/Users/wonderful/anaconda/lib/python3.6/re.py\u001b[0m in \u001b[0;36mcompile\u001b[0;34m(pattern, flags)\u001b[0m\n\u001b[1;32m    231\u001b[0m \u001b[0;32mdef\u001b[0m \u001b[0mcompile\u001b[0m\u001b[0;34m(\u001b[0m\u001b[0mpattern\u001b[0m\u001b[0;34m,\u001b[0m \u001b[0mflags\u001b[0m\u001b[0;34m=\u001b[0m\u001b[0;36m0\u001b[0m\u001b[0;34m)\u001b[0m\u001b[0;34m:\u001b[0m\u001b[0;34m\u001b[0m\u001b[0m\n\u001b[1;32m    232\u001b[0m     \u001b[0;34m\"Compile a regular expression pattern, returning a pattern object.\"\u001b[0m\u001b[0;34m\u001b[0m\u001b[0m\n\u001b[0;32m--> 233\u001b[0;31m     \u001b[0;32mreturn\u001b[0m \u001b[0m_compile\u001b[0m\u001b[0;34m(\u001b[0m\u001b[0mpattern\u001b[0m\u001b[0;34m,\u001b[0m \u001b[0mflags\u001b[0m\u001b[0;34m)\u001b[0m\u001b[0;34m\u001b[0m\u001b[0m\n\u001b[0m\u001b[1;32m    234\u001b[0m \u001b[0;34m\u001b[0m\u001b[0m\n\u001b[1;32m    235\u001b[0m \u001b[0;32mdef\u001b[0m \u001b[0mpurge\u001b[0m\u001b[0;34m(\u001b[0m\u001b[0;34m)\u001b[0m\u001b[0;34m:\u001b[0m\u001b[0;34m\u001b[0m\u001b[0m\n",
      "\u001b[0;32m/Users/wonderful/anaconda/lib/python3.6/re.py\u001b[0m in \u001b[0;36m_compile\u001b[0;34m(pattern, flags)\u001b[0m\n\u001b[1;32m    287\u001b[0m     \u001b[0;31m# internal: compile pattern\u001b[0m\u001b[0;34m\u001b[0m\u001b[0;34m\u001b[0m\u001b[0m\n\u001b[1;32m    288\u001b[0m     \u001b[0;32mtry\u001b[0m\u001b[0;34m:\u001b[0m\u001b[0;34m\u001b[0m\u001b[0m\n\u001b[0;32m--> 289\u001b[0;31m         \u001b[0mp\u001b[0m\u001b[0;34m,\u001b[0m \u001b[0mloc\u001b[0m \u001b[0;34m=\u001b[0m \u001b[0m_cache\u001b[0m\u001b[0;34m[\u001b[0m\u001b[0mtype\u001b[0m\u001b[0;34m(\u001b[0m\u001b[0mpattern\u001b[0m\u001b[0;34m)\u001b[0m\u001b[0;34m,\u001b[0m \u001b[0mpattern\u001b[0m\u001b[0;34m,\u001b[0m \u001b[0mflags\u001b[0m\u001b[0;34m]\u001b[0m\u001b[0;34m\u001b[0m\u001b[0m\n\u001b[0m\u001b[1;32m    290\u001b[0m         \u001b[0;32mif\u001b[0m \u001b[0mloc\u001b[0m \u001b[0;32mis\u001b[0m \u001b[0;32mNone\u001b[0m \u001b[0;32mor\u001b[0m \u001b[0mloc\u001b[0m \u001b[0;34m==\u001b[0m \u001b[0m_locale\u001b[0m\u001b[0;34m.\u001b[0m\u001b[0msetlocale\u001b[0m\u001b[0;34m(\u001b[0m\u001b[0m_locale\u001b[0m\u001b[0;34m.\u001b[0m\u001b[0mLC_CTYPE\u001b[0m\u001b[0;34m)\u001b[0m\u001b[0;34m:\u001b[0m\u001b[0;34m\u001b[0m\u001b[0m\n\u001b[1;32m    291\u001b[0m             \u001b[0;32mreturn\u001b[0m \u001b[0mp\u001b[0m\u001b[0;34m\u001b[0m\u001b[0m\n",
      "\u001b[0;31mTypeError\u001b[0m: unhashable type: 'list'"
     ]
    }
   ],
   "source": [
    "import re\n",
    "t.insert_one({'name': re.compile(a)})"
   ]
  },
  {
   "cell_type": "code",
   "execution_count": 61,
   "metadata": {
    "collapsed": false
   },
   "outputs": [
    {
     "ename": "InvalidDocument",
     "evalue": "key '$regex' must not start with '$'",
     "output_type": "error",
     "traceback": [
      "\u001b[0;31m---------------------------------------------------------------------------\u001b[0m",
      "\u001b[0;31mInvalidDocument\u001b[0m                           Traceback (most recent call last)",
      "\u001b[0;32m<ipython-input-61-8131ec3f63c9>\u001b[0m in \u001b[0;36m<module>\u001b[0;34m()\u001b[0m\n\u001b[0;32m----> 1\u001b[0;31m \u001b[0mt\u001b[0m\u001b[0;34m.\u001b[0m\u001b[0minsert_one\u001b[0m\u001b[0;34m(\u001b[0m\u001b[0;34m{\u001b[0m\u001b[0;34m'name'\u001b[0m\u001b[0;34m:\u001b[0m \u001b[0;34m{\u001b[0m\u001b[0;34m'$regex'\u001b[0m\u001b[0;34m:\u001b[0m \u001b[0;34m'a'\u001b[0m\u001b[0;34m}\u001b[0m\u001b[0;34m}\u001b[0m\u001b[0;34m)\u001b[0m\u001b[0;34m\u001b[0m\u001b[0m\n\u001b[0m",
      "\u001b[0;32m/Users/wonderful/anaconda/lib/python3.6/site-packages/pymongo/collection.py\u001b[0m in \u001b[0;36minsert_one\u001b[0;34m(self, document, bypass_document_validation)\u001b[0m\n\u001b[1;32m    668\u001b[0m             return InsertOneResult(\n\u001b[1;32m    669\u001b[0m                 self._insert(sock_info, document,\n\u001b[0;32m--> 670\u001b[0;31m                              bypass_doc_val=bypass_document_validation),\n\u001b[0m\u001b[1;32m    671\u001b[0m                 self.write_concern.acknowledged)\n\u001b[1;32m    672\u001b[0m \u001b[0;34m\u001b[0m\u001b[0m\n",
      "\u001b[0;32m/Users/wonderful/anaconda/lib/python3.6/site-packages/pymongo/collection.py\u001b[0m in \u001b[0;36m_insert\u001b[0;34m(self, sock_info, docs, ordered, check_keys, manipulate, write_concern, op_id, bypass_doc_val)\u001b[0m\n\u001b[1;32m    573\u001b[0m             return self._insert_one(\n\u001b[1;32m    574\u001b[0m                 \u001b[0msock_info\u001b[0m\u001b[0;34m,\u001b[0m \u001b[0mdocs\u001b[0m\u001b[0;34m,\u001b[0m \u001b[0mordered\u001b[0m\u001b[0;34m,\u001b[0m\u001b[0;34m\u001b[0m\u001b[0m\n\u001b[0;32m--> 575\u001b[0;31m                 check_keys, manipulate, write_concern, op_id, bypass_doc_val)\n\u001b[0m\u001b[1;32m    576\u001b[0m \u001b[0;34m\u001b[0m\u001b[0m\n\u001b[1;32m    577\u001b[0m         \u001b[0mids\u001b[0m \u001b[0;34m=\u001b[0m \u001b[0;34m[\u001b[0m\u001b[0;34m]\u001b[0m\u001b[0;34m\u001b[0m\u001b[0m\n",
      "\u001b[0;32m/Users/wonderful/anaconda/lib/python3.6/site-packages/pymongo/collection.py\u001b[0m in \u001b[0;36m_insert_one\u001b[0;34m(self, sock_info, doc, ordered, check_keys, manipulate, write_concern, op_id, bypass_doc_val)\u001b[0m\n\u001b[1;32m    554\u001b[0m                 \u001b[0mcommand\u001b[0m\u001b[0;34m,\u001b[0m\u001b[0;34m\u001b[0m\u001b[0m\n\u001b[1;32m    555\u001b[0m                 \u001b[0mcodec_options\u001b[0m\u001b[0;34m=\u001b[0m\u001b[0mself\u001b[0m\u001b[0;34m.\u001b[0m\u001b[0m__write_response_codec_options\u001b[0m\u001b[0;34m,\u001b[0m\u001b[0;34m\u001b[0m\u001b[0m\n\u001b[0;32m--> 556\u001b[0;31m                 check_keys=check_keys)\n\u001b[0m\u001b[1;32m    557\u001b[0m             \u001b[0m_check_write_command_response\u001b[0m\u001b[0;34m(\u001b[0m\u001b[0;34m[\u001b[0m\u001b[0;34m(\u001b[0m\u001b[0;36m0\u001b[0m\u001b[0;34m,\u001b[0m \u001b[0mresult\u001b[0m\u001b[0;34m)\u001b[0m\u001b[0;34m]\u001b[0m\u001b[0;34m)\u001b[0m\u001b[0;34m\u001b[0m\u001b[0m\n\u001b[1;32m    558\u001b[0m         \u001b[0;32melse\u001b[0m\u001b[0;34m:\u001b[0m\u001b[0;34m\u001b[0m\u001b[0m\n",
      "\u001b[0;32m/Users/wonderful/anaconda/lib/python3.6/site-packages/pymongo/pool.py\u001b[0m in \u001b[0;36mcommand\u001b[0;34m(self, dbname, spec, slave_ok, read_preference, codec_options, check, allowable_errors, check_keys, read_concern, write_concern, parse_write_concern_error, collation)\u001b[0m\n\u001b[1;32m    480\u001b[0m         \u001b[0;31m# Catch socket.error, KeyboardInterrupt, etc. and close ourselves.\u001b[0m\u001b[0;34m\u001b[0m\u001b[0;34m\u001b[0m\u001b[0m\n\u001b[1;32m    481\u001b[0m         \u001b[0;32mexcept\u001b[0m \u001b[0mBaseException\u001b[0m \u001b[0;32mas\u001b[0m \u001b[0merror\u001b[0m\u001b[0;34m:\u001b[0m\u001b[0;34m\u001b[0m\u001b[0m\n\u001b[0;32m--> 482\u001b[0;31m             \u001b[0mself\u001b[0m\u001b[0;34m.\u001b[0m\u001b[0m_raise_connection_failure\u001b[0m\u001b[0;34m(\u001b[0m\u001b[0merror\u001b[0m\u001b[0;34m)\u001b[0m\u001b[0;34m\u001b[0m\u001b[0m\n\u001b[0m\u001b[1;32m    483\u001b[0m \u001b[0;34m\u001b[0m\u001b[0m\n\u001b[1;32m    484\u001b[0m     \u001b[0;32mdef\u001b[0m \u001b[0msend_message\u001b[0m\u001b[0;34m(\u001b[0m\u001b[0mself\u001b[0m\u001b[0;34m,\u001b[0m \u001b[0mmessage\u001b[0m\u001b[0;34m,\u001b[0m \u001b[0mmax_doc_size\u001b[0m\u001b[0;34m)\u001b[0m\u001b[0;34m:\u001b[0m\u001b[0;34m\u001b[0m\u001b[0m\n",
      "\u001b[0;32m/Users/wonderful/anaconda/lib/python3.6/site-packages/pymongo/pool.py\u001b[0m in \u001b[0;36m_raise_connection_failure\u001b[0;34m(self, error)\u001b[0m\n\u001b[1;32m    608\u001b[0m             \u001b[0m_raise_connection_failure\u001b[0m\u001b[0;34m(\u001b[0m\u001b[0mself\u001b[0m\u001b[0;34m.\u001b[0m\u001b[0maddress\u001b[0m\u001b[0;34m,\u001b[0m \u001b[0merror\u001b[0m\u001b[0;34m)\u001b[0m\u001b[0;34m\u001b[0m\u001b[0m\n\u001b[1;32m    609\u001b[0m         \u001b[0;32melse\u001b[0m\u001b[0;34m:\u001b[0m\u001b[0;34m\u001b[0m\u001b[0m\n\u001b[0;32m--> 610\u001b[0;31m             \u001b[0;32mraise\u001b[0m \u001b[0merror\u001b[0m\u001b[0;34m\u001b[0m\u001b[0m\n\u001b[0m\u001b[1;32m    611\u001b[0m \u001b[0;34m\u001b[0m\u001b[0m\n\u001b[1;32m    612\u001b[0m     \u001b[0;32mdef\u001b[0m \u001b[0m__eq__\u001b[0m\u001b[0;34m(\u001b[0m\u001b[0mself\u001b[0m\u001b[0;34m,\u001b[0m \u001b[0mother\u001b[0m\u001b[0;34m)\u001b[0m\u001b[0;34m:\u001b[0m\u001b[0;34m\u001b[0m\u001b[0m\n",
      "\u001b[0;32m/Users/wonderful/anaconda/lib/python3.6/site-packages/pymongo/pool.py\u001b[0m in \u001b[0;36mcommand\u001b[0;34m(self, dbname, spec, slave_ok, read_preference, codec_options, check, allowable_errors, check_keys, read_concern, write_concern, parse_write_concern_error, collation)\u001b[0m\n\u001b[1;32m    475\u001b[0m                            \u001b[0mread_concern\u001b[0m\u001b[0;34m,\u001b[0m\u001b[0;34m\u001b[0m\u001b[0m\n\u001b[1;32m    476\u001b[0m                            \u001b[0mparse_write_concern_error\u001b[0m\u001b[0;34m=\u001b[0m\u001b[0mparse_write_concern_error\u001b[0m\u001b[0;34m,\u001b[0m\u001b[0;34m\u001b[0m\u001b[0m\n\u001b[0;32m--> 477\u001b[0;31m                            collation=collation)\n\u001b[0m\u001b[1;32m    478\u001b[0m         \u001b[0;32mexcept\u001b[0m \u001b[0mOperationFailure\u001b[0m\u001b[0;34m:\u001b[0m\u001b[0;34m\u001b[0m\u001b[0m\n\u001b[1;32m    479\u001b[0m             \u001b[0;32mraise\u001b[0m\u001b[0;34m\u001b[0m\u001b[0m\n",
      "\u001b[0;32m/Users/wonderful/anaconda/lib/python3.6/site-packages/pymongo/network.py\u001b[0m in \u001b[0;36mcommand\u001b[0;34m(sock, dbname, spec, slave_ok, is_mongos, read_preference, codec_options, check, allowable_errors, address, check_keys, listeners, max_bson_size, read_concern, parse_write_concern_error, collation)\u001b[0m\n\u001b[1;32m     92\u001b[0m \u001b[0;34m\u001b[0m\u001b[0m\n\u001b[1;32m     93\u001b[0m     request_id, msg, size = message.query(flags, ns, 0, -1, spec,\n\u001b[0;32m---> 94\u001b[0;31m                                           None, codec_options, check_keys)\n\u001b[0m\u001b[1;32m     95\u001b[0m \u001b[0;34m\u001b[0m\u001b[0m\n\u001b[1;32m     96\u001b[0m     if (max_bson_size is not None\n",
      "\u001b[0;31mInvalidDocument\u001b[0m: key '$regex' must not start with '$'"
     ]
    }
   ],
   "source": [
    "t.insert_one({'name': {'$regex': 'a'}})"
   ]
  },
  {
   "cell_type": "markdown",
   "metadata": {},
   "source": [
    "## 4.3.3 查询数组"
   ]
  },
  {
   "cell_type": "code",
   "execution_count": 105,
   "metadata": {
    "collapsed": false
   },
   "outputs": [
    {
     "data": {
      "text/plain": [
       "<pymongo.results.InsertOneResult at 0x109522a88>"
      ]
     },
     "execution_count": 105,
     "metadata": {},
     "output_type": "execute_result"
    }
   ],
   "source": [
    "db.food.insert_one({'fruit': ['apple', 'banana', 'peach']})"
   ]
  },
  {
   "cell_type": "code",
   "execution_count": 106,
   "metadata": {
    "collapsed": false,
    "scrolled": true
   },
   "outputs": [
    {
     "data": {
      "text/plain": [
       "[{'_id': ObjectId('59b0a3f0498ab12b3fb62a98'),\n",
       "  'fruit': ['apple', 'kumquat', 'orange', 'strawberry']},\n",
       " {'_id': ObjectId('59b0a3f0498ab12b3fb62a99'),\n",
       "  'fruit': ['cherry', 'banana', 'apple', 'strawberry']},\n",
       " {'_id': ObjectId('59b0a3f3498ab12b3fb62a9a'),\n",
       "  'fruit': ['apple', 'banana', 'peach', 'strawberry']},\n",
       " {'_id': ObjectId('59b0a41f498ab12b3fb62a9b'),\n",
       "  'fruit': ['apple', 'banana', 'peach']}]"
      ]
     },
     "execution_count": 106,
     "metadata": {},
     "output_type": "execute_result"
    }
   ],
   "source": [
    "list(db.food.find({'fruit': 'apple'}))"
   ]
  },
  {
   "cell_type": "markdown",
   "metadata": {},
   "source": [
    "### 1.```$all```"
   ]
  },
  {
   "cell_type": "code",
   "execution_count": 107,
   "metadata": {
    "collapsed": false
   },
   "outputs": [
    {
     "data": {
      "text/plain": [
       "<pymongo.results.InsertOneResult at 0x109522d08>"
      ]
     },
     "execution_count": 107,
     "metadata": {},
     "output_type": "execute_result"
    }
   ],
   "source": [
    "db.food.insert_one({'fruit': ['apple', 'kumquat', 'orange']})\n",
    "db.food.insert_one({'fruit': ['cherry', 'banana', 'apple']})"
   ]
  },
  {
   "cell_type": "code",
   "execution_count": 108,
   "metadata": {
    "collapsed": false
   },
   "outputs": [
    {
     "data": {
      "text/plain": [
       "[{'fruit': ['cherry', 'banana', 'apple', 'strawberry']},\n",
       " {'fruit': ['apple', 'banana', 'peach', 'strawberry']},\n",
       " {'fruit': ['apple', 'banana', 'peach']},\n",
       " {'fruit': ['cherry', 'banana', 'apple']}]"
      ]
     },
     "execution_count": 108,
     "metadata": {},
     "output_type": "execute_result"
    }
   ],
   "source": [
    "list(db.food.find({'fruit': {'$all': ['apple', 'banana']}},\n",
    "                  {'_id': 0}))"
   ]
  },
  {
   "cell_type": "code",
   "execution_count": 109,
   "metadata": {
    "collapsed": false
   },
   "outputs": [
    {
     "data": {
      "text/plain": [
       "[{'fruit': ['apple', 'kumquat', 'orange', 'strawberry']},\n",
       " {'fruit': ['cherry', 'banana', 'apple', 'strawberry']},\n",
       " {'fruit': ['apple', 'banana', 'peach', 'strawberry']},\n",
       " {'fruit': ['apple', 'banana', 'peach']},\n",
       " {'fruit': ['apple', 'kumquat', 'orange']},\n",
       " {'fruit': ['cherry', 'banana', 'apple']}]"
      ]
     },
     "execution_count": 109,
     "metadata": {},
     "output_type": "execute_result"
    }
   ],
   "source": [
    "list(db.food.find({'fruit': {'$all': ['apple']}},\n",
    "                  {'_id': 0}))"
   ]
  },
  {
   "cell_type": "code",
   "execution_count": 110,
   "metadata": {
    "collapsed": false
   },
   "outputs": [
    {
     "data": {
      "text/plain": [
       "[{'fruit': ['apple', 'kumquat', 'orange', 'strawberry']},\n",
       " {'fruit': ['cherry', 'banana', 'apple', 'strawberry']},\n",
       " {'fruit': ['apple', 'banana', 'peach', 'strawberry']},\n",
       " {'fruit': ['apple', 'banana', 'peach']},\n",
       " {'fruit': ['apple', 'kumquat', 'orange']},\n",
       " {'fruit': ['cherry', 'banana', 'apple']}]"
      ]
     },
     "execution_count": 110,
     "metadata": {},
     "output_type": "execute_result"
    }
   ],
   "source": [
    "list(db.food.find({'fruit': 'apple'},\n",
    "                  {'_id': 0}))"
   ]
  },
  {
   "cell_type": "code",
   "execution_count": 111,
   "metadata": {
    "collapsed": false
   },
   "outputs": [
    {
     "data": {
      "text/plain": [
       "[]"
      ]
     },
     "execution_count": 111,
     "metadata": {},
     "output_type": "execute_result"
    }
   ],
   "source": [
    "list(db.food.find({'fruit': {'$all': ['apple', 'banana', 'orange']}}))"
   ]
  },
  {
   "cell_type": "code",
   "execution_count": 112,
   "metadata": {
    "collapsed": false
   },
   "outputs": [
    {
     "data": {
      "text/plain": [
       "[{'fruit': ['apple', 'banana', 'peach', 'strawberry']},\n",
       " {'fruit': ['apple', 'banana', 'peach']}]"
      ]
     },
     "execution_count": 112,
     "metadata": {},
     "output_type": "execute_result"
    }
   ],
   "source": [
    "list(db.food.find({'fruit.2': 'peach'}, {'_id': 0}))"
   ]
  },
  {
   "cell_type": "markdown",
   "metadata": {},
   "source": [
    "### 2.```$size```"
   ]
  },
  {
   "cell_type": "code",
   "execution_count": 113,
   "metadata": {
    "collapsed": false
   },
   "outputs": [
    {
     "data": {
      "text/plain": [
       "[{'fruit': ['apple', 'banana', 'peach']},\n",
       " {'fruit': ['apple', 'kumquat', 'orange']},\n",
       " {'fruit': ['cherry', 'banana', 'apple']}]"
      ]
     },
     "execution_count": 113,
     "metadata": {},
     "output_type": "execute_result"
    }
   ],
   "source": [
    "list(db.food.find({'fruit': {'$size': 3}}, {'_id': 0}))"
   ]
  },
  {
   "cell_type": "code",
   "execution_count": 114,
   "metadata": {
    "collapsed": false
   },
   "outputs": [
    {
     "data": {
      "text/plain": [
       "<pymongo.results.UpdateResult at 0x1095314c8>"
      ]
     },
     "execution_count": 114,
     "metadata": {},
     "output_type": "execute_result"
    }
   ],
   "source": [
    "db.food.update_one({'fruit': 'apple'},\n",
    "                   {'$push': \n",
    "                       {'fruit': 'strawberry'}})"
   ]
  },
  {
   "cell_type": "code",
   "execution_count": 115,
   "metadata": {
    "collapsed": false
   },
   "outputs": [
    {
     "data": {
      "text/plain": [
       "[{'_id': ObjectId('59b09bde498ab12b3fb62a94'), 'fruit': 'strawberry'},\n",
       " {'_id': ObjectId('59b09d6f498ab12b3fb62a96'), 'fruit': 'strawberry'},\n",
       " {'_id': ObjectId('59b09d6f498ab12b3fb62a97'), 'fruit': 'strawberry'},\n",
       " {'_id': ObjectId('59b0a3f0498ab12b3fb62a98'),\n",
       "  'fruit': ['apple', 'kumquat', 'orange', 'strawberry', 'strawberry']},\n",
       " {'_id': ObjectId('59b0a3f0498ab12b3fb62a99'),\n",
       "  'fruit': ['cherry', 'banana', 'apple', 'strawberry']},\n",
       " {'_id': ObjectId('59b0a3f3498ab12b3fb62a9a'),\n",
       "  'fruit': ['apple', 'banana', 'peach', 'strawberry']},\n",
       " {'_id': ObjectId('59b0a41f498ab12b3fb62a9b'),\n",
       "  'fruit': ['apple', 'banana', 'peach']},\n",
       " {'_id': ObjectId('59b0a41f498ab12b3fb62a9c'),\n",
       "  'fruit': ['apple', 'kumquat', 'orange']},\n",
       " {'_id': ObjectId('59b0a41f498ab12b3fb62a9d'),\n",
       "  'fruit': ['cherry', 'banana', 'apple']}]"
      ]
     },
     "execution_count": 115,
     "metadata": {},
     "output_type": "execute_result"
    }
   ],
   "source": [
    "list(db.food.find())"
   ]
  },
  {
   "cell_type": "code",
   "execution_count": 116,
   "metadata": {
    "collapsed": false
   },
   "outputs": [
    {
     "data": {
      "text/plain": [
       "<pymongo.results.UpdateResult at 0x109531808>"
      ]
     },
     "execution_count": 116,
     "metadata": {},
     "output_type": "execute_result"
    }
   ],
   "source": [
    "db.food.update_many({'fruit': {'$all': ['apple']}},\n",
    "                    {'$push': {'fruit': 'strawberry'}})"
   ]
  },
  {
   "cell_type": "code",
   "execution_count": 117,
   "metadata": {
    "collapsed": false,
    "scrolled": true
   },
   "outputs": [
    {
     "data": {
      "text/plain": [
       "[{'_id': ObjectId('59b09bde498ab12b3fb62a94'), 'fruit': 'strawberry'},\n",
       " {'_id': ObjectId('59b09d6f498ab12b3fb62a96'), 'fruit': 'strawberry'},\n",
       " {'_id': ObjectId('59b09d6f498ab12b3fb62a97'), 'fruit': 'strawberry'},\n",
       " {'_id': ObjectId('59b0a3f0498ab12b3fb62a98'),\n",
       "  'fruit': ['apple',\n",
       "   'kumquat',\n",
       "   'orange',\n",
       "   'strawberry',\n",
       "   'strawberry',\n",
       "   'strawberry']},\n",
       " {'_id': ObjectId('59b0a3f0498ab12b3fb62a99'),\n",
       "  'fruit': ['cherry', 'banana', 'apple', 'strawberry', 'strawberry']},\n",
       " {'_id': ObjectId('59b0a3f3498ab12b3fb62a9a'),\n",
       "  'fruit': ['apple', 'banana', 'peach', 'strawberry', 'strawberry']},\n",
       " {'_id': ObjectId('59b0a41f498ab12b3fb62a9b'),\n",
       "  'fruit': ['apple', 'banana', 'peach', 'strawberry']},\n",
       " {'_id': ObjectId('59b0a41f498ab12b3fb62a9c'),\n",
       "  'fruit': ['apple', 'kumquat', 'orange', 'strawberry']},\n",
       " {'_id': ObjectId('59b0a41f498ab12b3fb62a9d'),\n",
       "  'fruit': ['cherry', 'banana', 'apple', 'strawberry']}]"
      ]
     },
     "execution_count": 117,
     "metadata": {},
     "output_type": "execute_result"
    }
   ],
   "source": [
    "list(db.food.find())"
   ]
  },
  {
   "cell_type": "markdown",
   "metadata": {},
   "source": [
    "### 以下发现 ```$size``` 不能与 ```$ne``` 同用"
   ]
  },
  {
   "cell_type": "code",
   "execution_count": 121,
   "metadata": {
    "collapsed": false
   },
   "outputs": [
    {
     "data": {
      "text/plain": [
       "<pymongo.results.DeleteResult at 0x109531ec8>"
      ]
     },
     "execution_count": 121,
     "metadata": {},
     "output_type": "execute_result"
    }
   ],
   "source": [
    "db.food.delete_many({'fruit': {'$ne': {'$size': 4}}})"
   ]
  },
  {
   "cell_type": "code",
   "execution_count": 122,
   "metadata": {
    "collapsed": false
   },
   "outputs": [
    {
     "data": {
      "text/plain": [
       "[]"
      ]
     },
     "execution_count": 122,
     "metadata": {},
     "output_type": "execute_result"
    }
   ],
   "source": [
    "list(db.food.find())"
   ]
  },
  {
   "cell_type": "code",
   "execution_count": 123,
   "metadata": {
    "collapsed": true
   },
   "outputs": [],
   "source": [
    "f = [{'fruit': 'strawberry'}, {'fruit': ['apple', 'kumquat', 'orange', 'strawberry']}]"
   ]
  },
  {
   "cell_type": "code",
   "execution_count": 124,
   "metadata": {
    "collapsed": false
   },
   "outputs": [
    {
     "data": {
      "text/plain": [
       "<pymongo.results.InsertManyResult at 0x1095066c8>"
      ]
     },
     "execution_count": 124,
     "metadata": {},
     "output_type": "execute_result"
    }
   ],
   "source": [
    "db.food.insert_many(f)"
   ]
  },
  {
   "cell_type": "code",
   "execution_count": 127,
   "metadata": {
    "collapsed": false
   },
   "outputs": [
    {
     "data": {
      "text/plain": [
       "[{'fruit': 'strawberry'},\n",
       " {'fruit': ['apple', 'kumquat', 'orange', 'strawberry']}]"
      ]
     },
     "execution_count": 127,
     "metadata": {},
     "output_type": "execute_result"
    }
   ],
   "source": [
    "list(db.food.find({}, {'_id': 0}))"
   ]
  },
  {
   "cell_type": "code",
   "execution_count": 129,
   "metadata": {
    "collapsed": false
   },
   "outputs": [
    {
     "data": {
      "text/plain": [
       "<pymongo.results.DeleteResult at 0x109545408>"
      ]
     },
     "execution_count": 129,
     "metadata": {},
     "output_type": "execute_result"
    }
   ],
   "source": [
    "db.food.delete_one({'fruit': {'$ne': {'$size': 4}}})"
   ]
  },
  {
   "cell_type": "code",
   "execution_count": 130,
   "metadata": {
    "collapsed": false
   },
   "outputs": [
    {
     "data": {
      "text/plain": [
       "[{'fruit': ['apple', 'kumquat', 'orange', 'strawberry']}]"
      ]
     },
     "execution_count": 130,
     "metadata": {},
     "output_type": "execute_result"
    }
   ],
   "source": [
    "list(db.food.find({}, {'_id': 0}))"
   ]
  },
  {
   "cell_type": "code",
   "execution_count": 131,
   "metadata": {
    "collapsed": false
   },
   "outputs": [
    {
     "data": {
      "text/plain": [
       "<pymongo.results.InsertOneResult at 0x109549d48>"
      ]
     },
     "execution_count": 131,
     "metadata": {},
     "output_type": "execute_result"
    }
   ],
   "source": [
    "db.food.insert_one({'fruit': ['cherry', 'banana', 'apple', 'strawberry', 'strawberry']})\n",
    "db.food.insert_one({'fruit': 'strawberry'})"
   ]
  },
  {
   "cell_type": "code",
   "execution_count": 132,
   "metadata": {
    "collapsed": false
   },
   "outputs": [
    {
     "data": {
      "text/plain": [
       "[{'fruit': ['apple', 'kumquat', 'orange', 'strawberry']},\n",
       " {'fruit': ['cherry', 'banana', 'apple', 'strawberry', 'strawberry']},\n",
       " {'fruit': 'strawberry'}]"
      ]
     },
     "execution_count": 132,
     "metadata": {},
     "output_type": "execute_result"
    }
   ],
   "source": [
    "list(db.food.find({}, {'_id': 0}))"
   ]
  },
  {
   "cell_type": "code",
   "execution_count": 134,
   "metadata": {
    "collapsed": false
   },
   "outputs": [
    {
     "data": {
      "text/plain": [
       "<pymongo.results.DeleteResult at 0x1095497c8>"
      ]
     },
     "execution_count": 134,
     "metadata": {},
     "output_type": "execute_result"
    }
   ],
   "source": [
    "db.food.delete_one({'fruit': {'$ne': {'$size': 4}}})"
   ]
  },
  {
   "cell_type": "code",
   "execution_count": 135,
   "metadata": {
    "collapsed": false
   },
   "outputs": [
    {
     "data": {
      "text/plain": [
       "[{'_id': ObjectId('59b0a58c498ab12b3fb62aa0'),\n",
       "  'fruit': ['cherry', 'banana', 'apple', 'strawberry', 'strawberry']},\n",
       " {'_id': ObjectId('59b0a58c498ab12b3fb62aa1'), 'fruit': 'strawberry'}]"
      ]
     },
     "execution_count": 135,
     "metadata": {},
     "output_type": "execute_result"
    }
   ],
   "source": [
    "list(db.food.find())"
   ]
  },
  {
   "cell_type": "code",
   "execution_count": 136,
   "metadata": {
    "collapsed": false
   },
   "outputs": [
    {
     "data": {
      "text/plain": [
       "[{'_id': ObjectId('59b0a58c498ab12b3fb62aa0'),\n",
       "  'fruit': ['cherry', 'banana', 'apple', 'strawberry', 'strawberry']},\n",
       " {'_id': ObjectId('59b0a58c498ab12b3fb62aa1'), 'fruit': 'strawberry'}]"
      ]
     },
     "execution_count": 136,
     "metadata": {},
     "output_type": "execute_result"
    }
   ],
   "source": [
    "list(db.food.find({'fruit': {'$ne': {'$size': 4}}}))"
   ]
  },
  {
   "cell_type": "code",
   "execution_count": 138,
   "metadata": {
    "collapsed": false
   },
   "outputs": [
    {
     "data": {
      "text/plain": [
       "<pymongo.results.InsertOneResult at 0x109552848>"
      ]
     },
     "execution_count": 138,
     "metadata": {},
     "output_type": "execute_result"
    }
   ],
   "source": [
    "db.food.insert_one({'fruit': ['apple', 'banana', 'peach', 'strawberry']})"
   ]
  },
  {
   "cell_type": "code",
   "execution_count": 141,
   "metadata": {
    "collapsed": false
   },
   "outputs": [
    {
     "data": {
      "text/plain": [
       "[{'fruit': ['cherry', 'banana', 'apple', 'strawberry', 'strawberry']},\n",
       " {'fruit': 'strawberry'},\n",
       " {'fruit': ['apple', 'banana', 'peach', 'strawberry']}]"
      ]
     },
     "execution_count": 141,
     "metadata": {},
     "output_type": "execute_result"
    }
   ],
   "source": [
    "list(db.food.find({}, {'_id': 0}))"
   ]
  },
  {
   "cell_type": "code",
   "execution_count": 145,
   "metadata": {
    "collapsed": false
   },
   "outputs": [
    {
     "data": {
      "text/plain": [
       "[{'fruit': ['apple', 'banana', 'peach', 'strawberry']}]"
      ]
     },
     "execution_count": 145,
     "metadata": {},
     "output_type": "execute_result"
    }
   ],
   "source": [
    "list(db.food.find({'fruit': {'$size': 4}}, {'_id': 0}))"
   ]
  },
  {
   "cell_type": "code",
   "execution_count": 146,
   "metadata": {
    "collapsed": true
   },
   "outputs": [],
   "source": [
    "t.drop()"
   ]
  },
  {
   "cell_type": "code",
   "execution_count": null,
   "metadata": {
    "collapsed": true
   },
   "outputs": [],
   "source": []
  }
 ],
 "metadata": {
  "kernelspec": {
   "display_name": "Python 3",
   "language": "python",
   "name": "python3"
  },
  "language_info": {
   "codemirror_mode": {
    "name": "ipython",
    "version": 3
   },
   "file_extension": ".py",
   "mimetype": "text/x-python",
   "name": "python",
   "nbconvert_exporter": "python",
   "pygments_lexer": "ipython3",
   "version": "3.6.0"
  }
 },
 "nbformat": 4,
 "nbformat_minor": 2
}
