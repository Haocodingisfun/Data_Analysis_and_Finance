{
 "cells": [
  {
   "cell_type": "markdown",
   "metadata": {},
   "source": [
    "# 3.1 插入并保存文档"
   ]
  },
  {
   "cell_type": "code",
   "execution_count": 1,
   "metadata": {
    "collapsed": true
   },
   "outputs": [],
   "source": [
    "from pymongo import MongoClient"
   ]
  },
  {
   "cell_type": "code",
   "execution_count": 2,
   "metadata": {
    "collapsed": false
   },
   "outputs": [],
   "source": [
    "client = MongoClient()"
   ]
  },
  {
   "cell_type": "code",
   "execution_count": 9,
   "metadata": {
    "collapsed": true
   },
   "outputs": [],
   "source": [
    "# database\n",
    "test = client.test"
   ]
  },
  {
   "cell_type": "code",
   "execution_count": 10,
   "metadata": {
    "collapsed": true
   },
   "outputs": [],
   "source": [
    "t = test.t"
   ]
  },
  {
   "cell_type": "code",
   "execution_count": 11,
   "metadata": {
    "collapsed": true
   },
   "outputs": [],
   "source": [
    "x1 = {'bar': 'baz'}"
   ]
  },
  {
   "cell_type": "code",
   "execution_count": 12,
   "metadata": {
    "collapsed": false
   },
   "outputs": [
    {
     "data": {
      "text/plain": [
       "<pymongo.results.InsertOneResult at 0x10849aa48>"
      ]
     },
     "execution_count": 12,
     "metadata": {},
     "output_type": "execute_result"
    }
   ],
   "source": [
    "t.insert_one(x1)"
   ]
  },
  {
   "cell_type": "markdown",
   "metadata": {},
   "source": [
    "## 3.3.1 批量插入"
   ]
  },
  {
   "cell_type": "code",
   "execution_count": 14,
   "metadata": {
    "collapsed": true
   },
   "outputs": [],
   "source": [
    "a = [{'x1': 1},\n",
    "     {'x2': 2},\n",
    "     {'x3': 3}]"
   ]
  },
  {
   "cell_type": "code",
   "execution_count": 15,
   "metadata": {
    "collapsed": false
   },
   "outputs": [
    {
     "data": {
      "text/plain": [
       "<pymongo.results.InsertManyResult at 0x1084b2ec8>"
      ]
     },
     "execution_count": 15,
     "metadata": {},
     "output_type": "execute_result"
    }
   ],
   "source": [
    "t.insert_many(a)"
   ]
  },
  {
   "cell_type": "code",
   "execution_count": 20,
   "metadata": {
    "collapsed": false
   },
   "outputs": [
    {
     "data": {
      "text/plain": [
       "{'_id': ObjectId('59aa554a498ab1156d58cb7b'), 'bar': 'baz'}"
      ]
     },
     "execution_count": 20,
     "metadata": {},
     "output_type": "execute_result"
    }
   ],
   "source": [
    "t.find_one()"
   ]
  },
  {
   "cell_type": "code",
   "execution_count": 21,
   "metadata": {
    "collapsed": true
   },
   "outputs": [],
   "source": [
    "from pprint import pprint "
   ]
  },
  {
   "cell_type": "code",
   "execution_count": 24,
   "metadata": {
    "collapsed": false
   },
   "outputs": [
    {
     "name": "stdout",
     "output_type": "stream",
     "text": [
      "{'_id': ObjectId('59aa554a498ab1156d58cb7b'), 'bar': 'baz'}\n",
      "{'_id': ObjectId('59aa559e498ab1156d58cb7c'), 'x1': 1}\n",
      "{'_id': ObjectId('59aa559e498ab1156d58cb7d'), 'x2': 2}\n",
      "{'_id': ObjectId('59aa559e498ab1156d58cb7e'), 'x3': 3}\n"
     ]
    }
   ],
   "source": [
    "for item in t.find():\n",
    "    pprint(item)"
   ]
  },
  {
   "cell_type": "markdown",
   "metadata": {},
   "source": [
    "## 3.1.2 插入校验"
   ]
  },
  {
   "cell_type": "code",
   "execution_count": 28,
   "metadata": {
    "collapsed": false,
    "scrolled": false
   },
   "outputs": [],
   "source": [
    "import pymongo"
   ]
  },
  {
   "cell_type": "markdown",
   "metadata": {},
   "source": [
    "# 3.2 删除文档"
   ]
  },
  {
   "cell_type": "code",
   "execution_count": 30,
   "metadata": {
    "collapsed": false
   },
   "outputs": [
    {
     "data": {
      "text/plain": [
       "<pymongo.results.DeleteResult at 0x10849a848>"
      ]
     },
     "execution_count": 30,
     "metadata": {},
     "output_type": "execute_result"
    }
   ],
   "source": [
    "t.delete_one(x1)"
   ]
  },
  {
   "cell_type": "code",
   "execution_count": 32,
   "metadata": {
    "collapsed": false
   },
   "outputs": [
    {
     "data": {
      "text/plain": [
       "<pymongo.results.DeleteResult at 0x10849abc8>"
      ]
     },
     "execution_count": 32,
     "metadata": {},
     "output_type": "execute_result"
    }
   ],
   "source": [
    "t.delete_one({'x1': 1})"
   ]
  },
  {
   "cell_type": "markdown",
   "metadata": {},
   "source": [
    "## 删除速度"
   ]
  },
  {
   "cell_type": "code",
   "execution_count": 33,
   "metadata": {
    "collapsed": true
   },
   "outputs": [],
   "source": [
    "i = 0\n",
    "for i in range(1000000):\n",
    "    t.insert_one({'foo': 'bar', \n",
    "                  'baz': i,\n",
    "                  'z': 10 - i})"
   ]
  },
  {
   "cell_type": "code",
   "execution_count": 34,
   "metadata": {
    "collapsed": false
   },
   "outputs": [
    {
     "name": "stdout",
     "output_type": "stream",
     "text": [
      "The slowest run took 16.70 times longer than the fastest. This could mean that an intermediate result is being cached.\n",
      "1000 loops, best of 3: 211 µs per loop\n"
     ]
    }
   ],
   "source": [
    "%timeit t.drop()"
   ]
  },
  {
   "cell_type": "markdown",
   "metadata": {},
   "source": [
    "# 3.3 更新文档"
   ]
  },
  {
   "cell_type": "markdown",
   "metadata": {},
   "source": [
    "## 3.3.1 文档替换"
   ]
  },
  {
   "cell_type": "code",
   "execution_count": 36,
   "metadata": {
    "collapsed": false
   },
   "outputs": [
    {
     "data": {
      "text/plain": [
       "<pymongo.results.InsertOneResult at 0x1084dad08>"
      ]
     },
     "execution_count": 36,
     "metadata": {},
     "output_type": "execute_result"
    }
   ],
   "source": [
    "t.insert_one({\n",
    "    'name': 'joe',\n",
    "    'friends': 32,\n",
    "    'enemies': 2\n",
    "})"
   ]
  },
  {
   "cell_type": "code",
   "execution_count": 37,
   "metadata": {
    "collapsed": true
   },
   "outputs": [],
   "source": [
    "joe = t.find_one({'name': 'joe'})"
   ]
  },
  {
   "cell_type": "code",
   "execution_count": 38,
   "metadata": {
    "collapsed": false
   },
   "outputs": [
    {
     "data": {
      "text/plain": [
       "{'_id': ObjectId('59aa5a0d498ab1156d680dbf'),\n",
       " 'enemies': 2,\n",
       " 'friends': 32,\n",
       " 'name': 'joe'}"
      ]
     },
     "execution_count": 38,
     "metadata": {},
     "output_type": "execute_result"
    }
   ],
   "source": [
    "joe"
   ]
  },
  {
   "cell_type": "code",
   "execution_count": 40,
   "metadata": {
    "collapsed": false
   },
   "outputs": [],
   "source": [
    "joe['relationship'] = {'friend': joe['friends'],\n",
    "                       'enemies': joe['enemies']}"
   ]
  },
  {
   "cell_type": "code",
   "execution_count": 41,
   "metadata": {
    "collapsed": false
   },
   "outputs": [
    {
     "data": {
      "text/plain": [
       "{'_id': ObjectId('59aa5a0d498ab1156d680dbf'),\n",
       " 'enemies': 2,\n",
       " 'friends': 32,\n",
       " 'name': 'joe',\n",
       " 'relationship': {'enemies': 2, 'friend': 32}}"
      ]
     },
     "execution_count": 41,
     "metadata": {},
     "output_type": "execute_result"
    }
   ],
   "source": [
    "joe"
   ]
  },
  {
   "cell_type": "code",
   "execution_count": 42,
   "metadata": {
    "collapsed": true
   },
   "outputs": [],
   "source": [
    "joe['username'] = joe['name']"
   ]
  },
  {
   "cell_type": "code",
   "execution_count": 44,
   "metadata": {
    "collapsed": false
   },
   "outputs": [],
   "source": [
    "del joe['friends']"
   ]
  },
  {
   "cell_type": "code",
   "execution_count": 45,
   "metadata": {
    "collapsed": false
   },
   "outputs": [
    {
     "data": {
      "text/plain": [
       "2"
      ]
     },
     "execution_count": 45,
     "metadata": {},
     "output_type": "execute_result"
    }
   ],
   "source": [
    "joe.pop('enemies')"
   ]
  },
  {
   "cell_type": "code",
   "execution_count": 47,
   "metadata": {
    "collapsed": false
   },
   "outputs": [
    {
     "data": {
      "text/plain": [
       "'joe'"
      ]
     },
     "execution_count": 47,
     "metadata": {},
     "output_type": "execute_result"
    }
   ],
   "source": [
    "joe.pop('name')"
   ]
  },
  {
   "cell_type": "code",
   "execution_count": 48,
   "metadata": {
    "collapsed": false
   },
   "outputs": [
    {
     "data": {
      "text/plain": [
       "{'_id': ObjectId('59aa5a0d498ab1156d680dbf'),\n",
       " 'relationship': {'enemies': 2, 'friend': 32},\n",
       " 'username': 'joe'}"
      ]
     },
     "execution_count": 48,
     "metadata": {},
     "output_type": "execute_result"
    }
   ],
   "source": [
    "joe"
   ]
  },
  {
   "cell_type": "code",
   "execution_count": 50,
   "metadata": {
    "collapsed": false
   },
   "outputs": [
    {
     "data": {
      "text/plain": [
       "<pymongo.results.UpdateResult at 0x1083ee148>"
      ]
     },
     "execution_count": 50,
     "metadata": {},
     "output_type": "execute_result"
    }
   ],
   "source": [
    "t.replace_one({'name': 'joe'}, joe)"
   ]
  },
  {
   "cell_type": "code",
   "execution_count": 52,
   "metadata": {
    "collapsed": false
   },
   "outputs": [
    {
     "name": "stdout",
     "output_type": "stream",
     "text": [
      "{'_id': ObjectId('59aa5a0d498ab1156d680dbf'),\n",
      " 'relationship': {'enemies': 2, 'friend': 32},\n",
      " 'username': 'joe'}\n"
     ]
    }
   ],
   "source": [
    "pprint(t.find_one())"
   ]
  },
  {
   "cell_type": "code",
   "execution_count": 53,
   "metadata": {
    "collapsed": false
   },
   "outputs": [
    {
     "data": {
      "text/plain": [
       "<pymongo.results.InsertOneResult at 0x108455408>"
      ]
     },
     "execution_count": 53,
     "metadata": {},
     "output_type": "execute_result"
    }
   ],
   "source": [
    "t.insert_one({\n",
    "    'name': 'joe',\n",
    "    'friends': 65,\n",
    "    'enemies': 2\n",
    "})"
   ]
  },
  {
   "cell_type": "code",
   "execution_count": 54,
   "metadata": {
    "collapsed": false
   },
   "outputs": [
    {
     "data": {
      "text/plain": [
       "<pymongo.results.InsertOneResult at 0x1084b2e48>"
      ]
     },
     "execution_count": 54,
     "metadata": {},
     "output_type": "execute_result"
    }
   ],
   "source": [
    "t.insert_one({\n",
    "    'name': 'joe',\n",
    "    'friends': 20,\n",
    "    'enemies': 2\n",
    "})"
   ]
  },
  {
   "cell_type": "code",
   "execution_count": 55,
   "metadata": {
    "collapsed": false
   },
   "outputs": [
    {
     "data": {
      "text/plain": [
       "<pymongo.results.InsertOneResult at 0x1084da048>"
      ]
     },
     "execution_count": 55,
     "metadata": {},
     "output_type": "execute_result"
    }
   ],
   "source": [
    "t.insert_one({\n",
    "    'name': 'joe',\n",
    "    'friends': 49,\n",
    "    'enemies': 2\n",
    "})"
   ]
  },
  {
   "cell_type": "code",
   "execution_count": 63,
   "metadata": {
    "collapsed": false,
    "scrolled": false
   },
   "outputs": [
    {
     "name": "stdout",
     "output_type": "stream",
     "text": [
      "{'_id': ObjectId('59aa5a0d498ab1156d680dbf'),\n",
      " 'relationship': {'enemies': 2, 'friend': 32},\n",
      " 'username': 'joe'}\n",
      "{'_id': ObjectId('59aa5daf498ab1156d680dc0'),\n",
      " 'enemies': 2,\n",
      " 'friends': 65,\n",
      " 'name': 'joe'}\n",
      "{'_id': ObjectId('59aa5db5498ab1156d680dc1'),\n",
      " 'enemies': 2,\n",
      " 'friends': 20,\n",
      " 'name': 'joe'}\n",
      "{'_id': ObjectId('59aa5dba498ab1156d680dc2'),\n",
      " 'enemies': 2,\n",
      " 'friends': 49,\n",
      " 'name': 'joe'}\n"
     ]
    }
   ],
   "source": [
    "for item in t.find():\n",
    "    pprint(item)"
   ]
  },
  {
   "cell_type": "code",
   "execution_count": 67,
   "metadata": {
    "collapsed": false
   },
   "outputs": [],
   "source": [
    "joe = t.find_one({'name': 'joe', 'friends': 20})"
   ]
  },
  {
   "cell_type": "code",
   "execution_count": 68,
   "metadata": {
    "collapsed": false
   },
   "outputs": [
    {
     "data": {
      "text/plain": [
       "{'_id': ObjectId('59aa5db5498ab1156d680dc1'),\n",
       " 'enemies': 2,\n",
       " 'friends': 20,\n",
       " 'name': 'joe'}"
      ]
     },
     "execution_count": 68,
     "metadata": {},
     "output_type": "execute_result"
    }
   ],
   "source": [
    "joe"
   ]
  },
  {
   "cell_type": "code",
   "execution_count": 70,
   "metadata": {
    "collapsed": false
   },
   "outputs": [],
   "source": [
    "joe['friends'] += 1"
   ]
  },
  {
   "cell_type": "code",
   "execution_count": 71,
   "metadata": {
    "collapsed": false
   },
   "outputs": [
    {
     "data": {
      "text/plain": [
       "{'_id': ObjectId('59aa5db5498ab1156d680dc1'),\n",
       " 'enemies': 2,\n",
       " 'friends': 21,\n",
       " 'name': 'joe'}"
      ]
     },
     "execution_count": 71,
     "metadata": {},
     "output_type": "execute_result"
    }
   ],
   "source": [
    "joe"
   ]
  },
  {
   "cell_type": "code",
   "execution_count": 72,
   "metadata": {
    "collapsed": false
   },
   "outputs": [
    {
     "ename": "WriteError",
     "evalue": "The _id field cannot be changed from {_id: ObjectId('59aa5daf498ab1156d680dc0')} to {_id: ObjectId('59aa5db5498ab1156d680dc1')}.",
     "output_type": "error",
     "traceback": [
      "\u001b[0;31m---------------------------------------------------------------------------\u001b[0m",
      "\u001b[0;31mWriteError\u001b[0m                                Traceback (most recent call last)",
      "\u001b[0;32m<ipython-input-72-77880deca596>\u001b[0m in \u001b[0;36m<module>\u001b[0;34m()\u001b[0m\n\u001b[0;32m----> 1\u001b[0;31m \u001b[0mt\u001b[0m\u001b[0;34m.\u001b[0m\u001b[0mreplace_one\u001b[0m\u001b[0;34m(\u001b[0m\u001b[0;34m{\u001b[0m\u001b[0;34m'name'\u001b[0m\u001b[0;34m:\u001b[0m \u001b[0;34m'joe'\u001b[0m\u001b[0;34m}\u001b[0m\u001b[0;34m,\u001b[0m \u001b[0mjoe\u001b[0m\u001b[0;34m)\u001b[0m\u001b[0;34m\u001b[0m\u001b[0m\n\u001b[0m",
      "\u001b[0;32m/Users/wonderful/anaconda/lib/python3.6/site-packages/pymongo/collection.py\u001b[0m in \u001b[0;36mreplace_one\u001b[0;34m(self, filter, replacement, upsert, bypass_document_validation, collation)\u001b[0m\n\u001b[1;32m    847\u001b[0m             result = self._update(sock_info, filter, replacement, upsert,\n\u001b[1;32m    848\u001b[0m                                   \u001b[0mbypass_doc_val\u001b[0m\u001b[0;34m=\u001b[0m\u001b[0mbypass_document_validation\u001b[0m\u001b[0;34m,\u001b[0m\u001b[0;34m\u001b[0m\u001b[0m\n\u001b[0;32m--> 849\u001b[0;31m                                   collation=collation)\n\u001b[0m\u001b[1;32m    850\u001b[0m         \u001b[0;32mreturn\u001b[0m \u001b[0mUpdateResult\u001b[0m\u001b[0;34m(\u001b[0m\u001b[0mresult\u001b[0m\u001b[0;34m,\u001b[0m \u001b[0mself\u001b[0m\u001b[0;34m.\u001b[0m\u001b[0mwrite_concern\u001b[0m\u001b[0;34m.\u001b[0m\u001b[0macknowledged\u001b[0m\u001b[0;34m)\u001b[0m\u001b[0;34m\u001b[0m\u001b[0m\n\u001b[1;32m    851\u001b[0m \u001b[0;34m\u001b[0m\u001b[0m\n",
      "\u001b[0;32m/Users/wonderful/anaconda/lib/python3.6/site-packages/pymongo/collection.py\u001b[0m in \u001b[0;36m_update\u001b[0;34m(self, sock_info, criteria, document, upsert, check_keys, multi, manipulate, write_concern, op_id, ordered, bypass_doc_val, collation)\u001b[0m\n\u001b[1;32m    765\u001b[0m                 \u001b[0mcommand\u001b[0m\u001b[0;34m,\u001b[0m\u001b[0;34m\u001b[0m\u001b[0m\n\u001b[1;32m    766\u001b[0m                 codec_options=self.__write_response_codec_options).copy()\n\u001b[0;32m--> 767\u001b[0;31m             \u001b[0m_check_write_command_response\u001b[0m\u001b[0;34m(\u001b[0m\u001b[0;34m[\u001b[0m\u001b[0;34m(\u001b[0m\u001b[0;36m0\u001b[0m\u001b[0;34m,\u001b[0m \u001b[0mresult\u001b[0m\u001b[0;34m)\u001b[0m\u001b[0;34m]\u001b[0m\u001b[0;34m)\u001b[0m\u001b[0;34m\u001b[0m\u001b[0m\n\u001b[0m\u001b[1;32m    768\u001b[0m             \u001b[0;31m# Add the updatedExisting field for compatibility.\u001b[0m\u001b[0;34m\u001b[0m\u001b[0;34m\u001b[0m\u001b[0m\n\u001b[1;32m    769\u001b[0m             \u001b[0;32mif\u001b[0m \u001b[0mresult\u001b[0m\u001b[0;34m.\u001b[0m\u001b[0mget\u001b[0m\u001b[0;34m(\u001b[0m\u001b[0;34m'n'\u001b[0m\u001b[0;34m)\u001b[0m \u001b[0;32mand\u001b[0m \u001b[0;34m'upserted'\u001b[0m \u001b[0;32mnot\u001b[0m \u001b[0;32min\u001b[0m \u001b[0mresult\u001b[0m\u001b[0;34m:\u001b[0m\u001b[0;34m\u001b[0m\u001b[0m\n",
      "\u001b[0;32m/Users/wonderful/anaconda/lib/python3.6/site-packages/pymongo/helpers.py\u001b[0m in \u001b[0;36m_check_write_command_response\u001b[0;34m(results)\u001b[0m\n\u001b[1;32m    313\u001b[0m             \u001b[0;32mif\u001b[0m \u001b[0merror\u001b[0m\u001b[0;34m.\u001b[0m\u001b[0mget\u001b[0m\u001b[0;34m(\u001b[0m\u001b[0;34m\"code\"\u001b[0m\u001b[0;34m)\u001b[0m \u001b[0;34m==\u001b[0m \u001b[0;36m11000\u001b[0m\u001b[0;34m:\u001b[0m\u001b[0;34m\u001b[0m\u001b[0m\n\u001b[1;32m    314\u001b[0m                 \u001b[0;32mraise\u001b[0m \u001b[0mDuplicateKeyError\u001b[0m\u001b[0;34m(\u001b[0m\u001b[0merror\u001b[0m\u001b[0;34m.\u001b[0m\u001b[0mget\u001b[0m\u001b[0;34m(\u001b[0m\u001b[0;34m\"errmsg\"\u001b[0m\u001b[0;34m)\u001b[0m\u001b[0;34m,\u001b[0m \u001b[0;36m11000\u001b[0m\u001b[0;34m,\u001b[0m \u001b[0merror\u001b[0m\u001b[0;34m)\u001b[0m\u001b[0;34m\u001b[0m\u001b[0m\n\u001b[0;32m--> 315\u001b[0;31m             \u001b[0;32mraise\u001b[0m \u001b[0mWriteError\u001b[0m\u001b[0;34m(\u001b[0m\u001b[0merror\u001b[0m\u001b[0;34m.\u001b[0m\u001b[0mget\u001b[0m\u001b[0;34m(\u001b[0m\u001b[0;34m\"errmsg\"\u001b[0m\u001b[0;34m)\u001b[0m\u001b[0;34m,\u001b[0m \u001b[0merror\u001b[0m\u001b[0;34m.\u001b[0m\u001b[0mget\u001b[0m\u001b[0;34m(\u001b[0m\u001b[0;34m\"code\"\u001b[0m\u001b[0;34m)\u001b[0m\u001b[0;34m,\u001b[0m \u001b[0merror\u001b[0m\u001b[0;34m)\u001b[0m\u001b[0;34m\u001b[0m\u001b[0m\n\u001b[0m\u001b[1;32m    316\u001b[0m         \u001b[0;32melse\u001b[0m\u001b[0;34m:\u001b[0m\u001b[0;34m\u001b[0m\u001b[0m\n\u001b[1;32m    317\u001b[0m             \u001b[0merror\u001b[0m \u001b[0;34m=\u001b[0m \u001b[0mresult\u001b[0m\u001b[0;34m[\u001b[0m\u001b[0;34m\"writeConcernError\"\u001b[0m\u001b[0;34m]\u001b[0m\u001b[0;34m\u001b[0m\u001b[0m\n",
      "\u001b[0;31mWriteError\u001b[0m: The _id field cannot be changed from {_id: ObjectId('59aa5daf498ab1156d680dc0')} to {_id: ObjectId('59aa5db5498ab1156d680dc1')}."
     ]
    }
   ],
   "source": [
    "t.replace_one({'name': 'joe'}, joe)"
   ]
  },
  {
   "cell_type": "code",
   "execution_count": 73,
   "metadata": {
    "collapsed": false
   },
   "outputs": [
    {
     "data": {
      "text/plain": [
       "<pymongo.results.UpdateResult at 0x1084d1dc8>"
      ]
     },
     "execution_count": 73,
     "metadata": {},
     "output_type": "execute_result"
    }
   ],
   "source": [
    "t.replace_one({'name': 'joe', 'friedns': 20}, joe)"
   ]
  },
  {
   "cell_type": "code",
   "execution_count": 77,
   "metadata": {
    "collapsed": false
   },
   "outputs": [
    {
     "data": {
      "text/plain": [
       "{'_id': ObjectId('59aa5db5498ab1156d680dc1'),\n",
       " 'enemies': 2,\n",
       " 'friends': 21,\n",
       " 'name': 'joe'}"
      ]
     },
     "execution_count": 77,
     "metadata": {},
     "output_type": "execute_result"
    }
   ],
   "source": [
    "joe"
   ]
  },
  {
   "cell_type": "code",
   "execution_count": 75,
   "metadata": {
    "collapsed": false
   },
   "outputs": [
    {
     "name": "stdout",
     "output_type": "stream",
     "text": [
      "{'_id': ObjectId('59aa5db5498ab1156d680dc1'),\n",
      " 'enemies': 2,\n",
      " 'friends': 20,\n",
      " 'name': 'joe'}\n"
     ]
    }
   ],
   "source": [
    "pprint(t.find_one({'friends': 20}))"
   ]
  },
  {
   "cell_type": "code",
   "execution_count": 76,
   "metadata": {
    "collapsed": false
   },
   "outputs": [
    {
     "name": "stdout",
     "output_type": "stream",
     "text": [
      "{'_id': ObjectId('59aa5a0d498ab1156d680dbf'),\n",
      " 'relationship': {'enemies': 2, 'friend': 32},\n",
      " 'username': 'joe'}\n",
      "{'_id': ObjectId('59aa5daf498ab1156d680dc0'),\n",
      " 'enemies': 2,\n",
      " 'friends': 65,\n",
      " 'name': 'joe'}\n",
      "{'_id': ObjectId('59aa5db5498ab1156d680dc1'),\n",
      " 'enemies': 2,\n",
      " 'friends': 20,\n",
      " 'name': 'joe'}\n",
      "{'_id': ObjectId('59aa5dba498ab1156d680dc2'),\n",
      " 'enemies': 2,\n",
      " 'friends': 49,\n",
      " 'name': 'joe'}\n"
     ]
    }
   ],
   "source": [
    "for item in t.find():\n",
    "    pprint(item)"
   ]
  },
  {
   "cell_type": "code",
   "execution_count": 79,
   "metadata": {
    "collapsed": false
   },
   "outputs": [
    {
     "data": {
      "text/plain": [
       "<pymongo.results.UpdateResult at 0x108508148>"
      ]
     },
     "execution_count": 79,
     "metadata": {},
     "output_type": "execute_result"
    }
   ],
   "source": [
    "from bson.objectid import ObjectId\n",
    "t.replace_one({'_id': ObjectId('59aa5db5498ab1156d680dc1')}, joe)"
   ]
  },
  {
   "cell_type": "code",
   "execution_count": 80,
   "metadata": {
    "collapsed": false,
    "scrolled": true
   },
   "outputs": [
    {
     "name": "stdout",
     "output_type": "stream",
     "text": [
      "{'_id': ObjectId('59aa5a0d498ab1156d680dbf'),\n",
      " 'relationship': {'enemies': 2, 'friend': 32},\n",
      " 'username': 'joe'}\n",
      "{'_id': ObjectId('59aa5daf498ab1156d680dc0'),\n",
      " 'enemies': 2,\n",
      " 'friends': 65,\n",
      " 'name': 'joe'}\n",
      "{'_id': ObjectId('59aa5db5498ab1156d680dc1'),\n",
      " 'enemies': 2,\n",
      " 'friends': 21,\n",
      " 'name': 'joe'}\n",
      "{'_id': ObjectId('59aa5dba498ab1156d680dc2'),\n",
      " 'enemies': 2,\n",
      " 'friends': 49,\n",
      " 'name': 'joe'}\n"
     ]
    }
   ],
   "source": [
    "for item in t.find():\n",
    "    pprint(item)"
   ]
  },
  {
   "cell_type": "code",
   "execution_count": 101,
   "metadata": {
    "collapsed": true
   },
   "outputs": [],
   "source": [
    "x = t.find_one({'friends': 49})"
   ]
  },
  {
   "cell_type": "code",
   "execution_count": 102,
   "metadata": {
    "collapsed": false
   },
   "outputs": [
    {
     "data": {
      "text/plain": [
       "{'_id': ObjectId('59aa5dba498ab1156d680dc2'),\n",
       " 'enemies': 2,\n",
       " 'friends': 49,\n",
       " 'name': 'joe'}"
      ]
     },
     "execution_count": 102,
     "metadata": {},
     "output_type": "execute_result"
    }
   ],
   "source": [
    "x"
   ]
  },
  {
   "cell_type": "code",
   "execution_count": 105,
   "metadata": {
    "collapsed": true
   },
   "outputs": [],
   "source": [
    "x['enemies'] = x['enemies'] + 1"
   ]
  },
  {
   "cell_type": "code",
   "execution_count": 106,
   "metadata": {
    "collapsed": false
   },
   "outputs": [
    {
     "data": {
      "text/plain": [
       "{'_id': ObjectId('59aa5dba498ab1156d680dc2'),\n",
       " 'enemies': 4,\n",
       " 'friends': 49,\n",
       " 'name': 'joe'}"
      ]
     },
     "execution_count": 106,
     "metadata": {},
     "output_type": "execute_result"
    }
   ],
   "source": [
    "x"
   ]
  },
  {
   "cell_type": "code",
   "execution_count": 107,
   "metadata": {
    "collapsed": false
   },
   "outputs": [
    {
     "data": {
      "text/plain": [
       "<pymongo.results.UpdateResult at 0x10850f308>"
      ]
     },
     "execution_count": 107,
     "metadata": {},
     "output_type": "execute_result"
    }
   ],
   "source": [
    "t.replace_one({'friends': 49}, x)"
   ]
  },
  {
   "cell_type": "code",
   "execution_count": 108,
   "metadata": {
    "collapsed": false,
    "scrolled": true
   },
   "outputs": [
    {
     "name": "stdout",
     "output_type": "stream",
     "text": [
      "{'_id': ObjectId('59aa5a0d498ab1156d680dbf'),\n",
      " 'relationship': {'enemies': 2, 'friend': 32},\n",
      " 'username': 'joe'}\n",
      "{'_id': ObjectId('59aa5daf498ab1156d680dc0'),\n",
      " 'enemies': 2,\n",
      " 'friends': 65,\n",
      " 'name': 'joe'}\n",
      "{'_id': ObjectId('59aa5db5498ab1156d680dc1'),\n",
      " 'enemies': 2,\n",
      " 'friends': 21,\n",
      " 'name': 'joe'}\n",
      "{'_id': ObjectId('59aa5dba498ab1156d680dc2'),\n",
      " 'enemies': 4,\n",
      " 'friends': 49,\n",
      " 'name': 'joe'}\n"
     ]
    }
   ],
   "source": [
    "for item in t.find():\n",
    "    pprint(item)"
   ]
  },
  {
   "cell_type": "code",
   "execution_count": 91,
   "metadata": {
    "collapsed": false
   },
   "outputs": [
    {
     "name": "stdout",
     "output_type": "stream",
     "text": [
      "Help on method replace_one in module pymongo.collection:\n",
      "\n",
      "replace_one(filter, replacement, upsert=False, bypass_document_validation=False, collation=None) method of pymongo.collection.Collection instance\n",
      "    Replace a single document matching the filter.\n",
      "    \n",
      "      >>> for doc in db.test.find({}):\n",
      "      ...     print(doc)\n",
      "      ...\n",
      "      {u'x': 1, u'_id': ObjectId('54f4c5befba5220aa4d6dee7')}\n",
      "      >>> result = db.test.replace_one({'x': 1}, {'y': 1})\n",
      "      >>> result.matched_count\n",
      "      1\n",
      "      >>> result.modified_count\n",
      "      1\n",
      "      >>> for doc in db.test.find({}):\n",
      "      ...     print(doc)\n",
      "      ...\n",
      "      {u'y': 1, u'_id': ObjectId('54f4c5befba5220aa4d6dee7')}\n",
      "    \n",
      "    The *upsert* option can be used to insert a new document if a matching\n",
      "    document does not exist.\n",
      "    \n",
      "      >>> result = db.test.replace_one({'x': 1}, {'x': 1}, True)\n",
      "      >>> result.matched_count\n",
      "      0\n",
      "      >>> result.modified_count\n",
      "      0\n",
      "      >>> result.upserted_id\n",
      "      ObjectId('54f11e5c8891e756a6e1abd4')\n",
      "      >>> db.test.find_one({'x': 1})\n",
      "      {u'x': 1, u'_id': ObjectId('54f11e5c8891e756a6e1abd4')}\n",
      "    \n",
      "    :Parameters:\n",
      "      - `filter`: A query that matches the document to replace.\n",
      "      - `replacement`: The new document.\n",
      "      - `upsert` (optional): If ``True``, perform an insert if no documents\n",
      "        match the filter.\n",
      "      - `bypass_document_validation`: (optional) If ``True``, allows the\n",
      "        write to opt-out of document level validation. Default is\n",
      "        ``False``.\n",
      "      - `collation` (optional): An instance of\n",
      "        :class:`~pymongo.collation.Collation`. This option is only supported\n",
      "        on MongoDB 3.4 and above.\n",
      "    \n",
      "    :Returns:\n",
      "      - An instance of :class:`~pymongo.results.UpdateResult`.\n",
      "    \n",
      "    .. note:: `bypass_document_validation` requires server version\n",
      "      **>= 3.2**\n",
      "    \n",
      "    .. versionchanged:: 3.4\n",
      "      Added the `collation` option.\n",
      "    \n",
      "    .. versionchanged:: 3.2\n",
      "      Added bypass_document_validation support\n",
      "    \n",
      "    .. versionadded:: 3.0\n",
      "\n"
     ]
    }
   ],
   "source": [
    "help(t.replace_one)"
   ]
  },
  {
   "cell_type": "code",
   "execution_count": null,
   "metadata": {
    "collapsed": true
   },
   "outputs": [],
   "source": []
  }
 ],
 "metadata": {
  "kernelspec": {
   "display_name": "Python 3",
   "language": "python",
   "name": "python3"
  },
  "language_info": {
   "codemirror_mode": {
    "name": "ipython",
    "version": 3
   },
   "file_extension": ".py",
   "mimetype": "text/x-python",
   "name": "python",
   "nbconvert_exporter": "python",
   "pygments_lexer": "ipython3",
   "version": "3.6.0"
  }
 },
 "nbformat": 4,
 "nbformat_minor": 2
}
