{
 "cells": [
  {
   "cell_type": "code",
   "execution_count": 51,
   "metadata": {
    "collapsed": true
   },
   "outputs": [],
   "source": [
    "import pymongo\n",
    "from pymongo import MongoClient\n",
    "from bson.objectid import ObjectId"
   ]
  },
  {
   "cell_type": "code",
   "execution_count": 52,
   "metadata": {
    "collapsed": true
   },
   "outputs": [],
   "source": [
    "client = MongoClient()"
   ]
  },
  {
   "cell_type": "code",
   "execution_count": 53,
   "metadata": {
    "collapsed": true
   },
   "outputs": [],
   "source": [
    "db = client.test"
   ]
  },
  {
   "cell_type": "code",
   "execution_count": 54,
   "metadata": {
    "collapsed": true
   },
   "outputs": [],
   "source": [
    "t = db.t"
   ]
  },
  {
   "cell_type": "code",
   "execution_count": 56,
   "metadata": {
    "collapsed": false
   },
   "outputs": [
    {
     "data": {
      "text/plain": [
       "{'_id': ObjectId('59ae46b3498ab1238248503f'), 'bitrhday': '10/13/1978'}"
      ]
     },
     "execution_count": 56,
     "metadata": {},
     "output_type": "execute_result"
    }
   ],
   "source": [
    "t.find_one()"
   ]
  },
  {
   "cell_type": "code",
   "execution_count": 104,
   "metadata": {
    "collapsed": false
   },
   "outputs": [],
   "source": [
    "t.drop()"
   ]
  },
  {
   "cell_type": "code",
   "execution_count": 105,
   "metadata": {
    "collapsed": true
   },
   "outputs": [],
   "source": [
    "a = {'birthday': '10/13/1978'}\n",
    "b = {'birthday': '10/13/1978'}\n",
    "c = {'birthday': '10/13/1978'}\n",
    "d = {'birthday': '10/12/1978'}"
   ]
  },
  {
   "cell_type": "code",
   "execution_count": 106,
   "metadata": {
    "collapsed": false
   },
   "outputs": [
    {
     "data": {
      "text/plain": [
       "<pymongo.results.InsertManyResult at 0x11a34b688>"
      ]
     },
     "execution_count": 106,
     "metadata": {},
     "output_type": "execute_result"
    }
   ],
   "source": [
    "t.insert_many([a, b, c, d])"
   ]
  },
  {
   "cell_type": "code",
   "execution_count": 107,
   "metadata": {
    "collapsed": false
   },
   "outputs": [
    {
     "data": {
      "text/plain": [
       "[{'_id': ObjectId('59aff209498ab1240384b9d4'), 'birthday': '10/13/1978'},\n",
       " {'_id': ObjectId('59aff209498ab1240384b9d5'), 'birthday': '10/13/1978'},\n",
       " {'_id': ObjectId('59aff209498ab1240384b9d6'), 'birthday': '10/13/1978'},\n",
       " {'_id': ObjectId('59aff209498ab1240384b9d7'), 'birthday': '10/12/1978'}]"
      ]
     },
     "execution_count": 107,
     "metadata": {},
     "output_type": "execute_result"
    }
   ],
   "source": [
    "[_ for _ in t.find()]"
   ]
  },
  {
   "cell_type": "code",
   "execution_count": 108,
   "metadata": {
    "collapsed": false
   },
   "outputs": [
    {
     "data": {
      "text/plain": [
       "<pymongo.results.UpdateResult at 0x11a34b908>"
      ]
     },
     "execution_count": 108,
     "metadata": {},
     "output_type": "execute_result"
    }
   ],
   "source": [
    "t.update_many({'birthday': '10/13/1978'},\n",
    "             {'$set': {'gift': 'Happy Birthday!'}}, upsert=False, bypass_document_validation=True)"
   ]
  },
  {
   "cell_type": "code",
   "execution_count": 109,
   "metadata": {
    "collapsed": false
   },
   "outputs": [
    {
     "data": {
      "text/plain": [
       "[{'_id': ObjectId('59aff209498ab1240384b9d4'),\n",
       "  'birthday': '10/13/1978',\n",
       "  'gift': 'Happy Birthday!'},\n",
       " {'_id': ObjectId('59aff209498ab1240384b9d5'),\n",
       "  'birthday': '10/13/1978',\n",
       "  'gift': 'Happy Birthday!'},\n",
       " {'_id': ObjectId('59aff209498ab1240384b9d6'),\n",
       "  'birthday': '10/13/1978',\n",
       "  'gift': 'Happy Birthday!'},\n",
       " {'_id': ObjectId('59aff209498ab1240384b9d7'), 'birthday': '10/12/1978'}]"
      ]
     },
     "execution_count": 109,
     "metadata": {},
     "output_type": "execute_result"
    }
   ],
   "source": [
    "[_ for _ in t.find()]"
   ]
  },
  {
   "cell_type": "code",
   "execution_count": 95,
   "metadata": {
    "collapsed": false
   },
   "outputs": [
    {
     "name": "stdout",
     "output_type": "stream",
     "text": [
      "Help on method update_one in module pymongo.collection:\n",
      "\n",
      "update_one(filter, update, upsert=False, bypass_document_validation=False, collation=None) method of pymongo.collection.Collection instance\n",
      "    Update a single document matching the filter.\n",
      "    \n",
      "      >>> for doc in db.test.find():\n",
      "      ...     print(doc)\n",
      "      ...\n",
      "      {u'x': 1, u'_id': 0}\n",
      "      {u'x': 1, u'_id': 1}\n",
      "      {u'x': 1, u'_id': 2}\n",
      "      >>> result = db.test.update_one({'x': 1}, {'$inc': {'x': 3}})\n",
      "      >>> result.matched_count\n",
      "      1\n",
      "      >>> result.modified_count\n",
      "      1\n",
      "      >>> for doc in db.test.find():\n",
      "      ...     print(doc)\n",
      "      ...\n",
      "      {u'x': 4, u'_id': 0}\n",
      "      {u'x': 1, u'_id': 1}\n",
      "      {u'x': 1, u'_id': 2}\n",
      "    \n",
      "    :Parameters:\n",
      "      - `filter`: A query that matches the document to update.\n",
      "      - `update`: The modifications to apply.\n",
      "      - `upsert` (optional): If ``True``, perform an insert if no documents\n",
      "        match the filter.\n",
      "      - `bypass_document_validation`: (optional) If ``True``, allows the\n",
      "        write to opt-out of document level validation. Default is\n",
      "        ``False``.\n",
      "      - `collation` (optional): An instance of\n",
      "        :class:`~pymongo.collation.Collation`. This option is only supported\n",
      "        on MongoDB 3.4 and above.\n",
      "    \n",
      "    :Returns:\n",
      "      - An instance of :class:`~pymongo.results.UpdateResult`.\n",
      "    \n",
      "    .. note:: `bypass_document_validation` requires server version\n",
      "      **>= 3.2**\n",
      "    \n",
      "    .. versionchanged:: 3.4\n",
      "      Added the `collation` option.\n",
      "    \n",
      "    .. versionchanged:: 3.2\n",
      "      Added bypass_document_validation support\n",
      "    \n",
      "    .. versionadded:: 3.0\n",
      "\n"
     ]
    }
   ],
   "source": [
    "help(t.update_one)"
   ]
  },
  {
   "cell_type": "code",
   "execution_count": 119,
   "metadata": {
    "collapsed": false
   },
   "outputs": [
    {
     "data": {
      "text/plain": [
       "<pymongo.results.InsertManyResult at 0x11a34e2c8>"
      ]
     },
     "execution_count": 119,
     "metadata": {},
     "output_type": "execute_result"
    }
   ],
   "source": [
    "t.drop()\n",
    "a = {'birthday': '10/13/1978'}\n",
    "b = {'birthday': '10/13/1978'}\n",
    "c = {'birthday': '10/13/1978'}\n",
    "d = {'birthday': '10/12/1978'}\n",
    "t.insert_many([a, b, c, d])"
   ]
  },
  {
   "cell_type": "code",
   "execution_count": 120,
   "metadata": {
    "collapsed": false
   },
   "outputs": [
    {
     "data": {
      "text/plain": [
       "[{'_id': ObjectId('59aff32f498ab1240384b9dc'), 'birthday': '10/13/1978'},\n",
       " {'_id': ObjectId('59aff32f498ab1240384b9dd'), 'birthday': '10/13/1978'},\n",
       " {'_id': ObjectId('59aff32f498ab1240384b9de'), 'birthday': '10/13/1978'},\n",
       " {'_id': ObjectId('59aff32f498ab1240384b9df'), 'birthday': '10/12/1978'}]"
      ]
     },
     "execution_count": 120,
     "metadata": {},
     "output_type": "execute_result"
    }
   ],
   "source": [
    "[_ for _ in t.find()]"
   ]
  },
  {
   "cell_type": "code",
   "execution_count": 121,
   "metadata": {
    "collapsed": false
   },
   "outputs": [],
   "source": [
    "r = t.update_many({'birthday': '10/13/1978'},\n",
    "             {'$set': {'gift': 'Happy birthday!'}})"
   ]
  },
  {
   "cell_type": "code",
   "execution_count": 122,
   "metadata": {
    "collapsed": false
   },
   "outputs": [
    {
     "data": {
      "text/plain": [
       "[{'_id': ObjectId('59aff32f498ab1240384b9dc'),\n",
       "  'birthday': '10/13/1978',\n",
       "  'gift': 'Happy birthday!'},\n",
       " {'_id': ObjectId('59aff32f498ab1240384b9dd'),\n",
       "  'birthday': '10/13/1978',\n",
       "  'gift': 'Happy birthday!'},\n",
       " {'_id': ObjectId('59aff32f498ab1240384b9de'),\n",
       "  'birthday': '10/13/1978',\n",
       "  'gift': 'Happy birthday!'},\n",
       " {'_id': ObjectId('59aff32f498ab1240384b9df'), 'birthday': '10/12/1978'}]"
      ]
     },
     "execution_count": 122,
     "metadata": {},
     "output_type": "execute_result"
    }
   ],
   "source": [
    "[_ for _ in t.find()]"
   ]
  },
  {
   "cell_type": "code",
   "execution_count": 124,
   "metadata": {
    "collapsed": false
   },
   "outputs": [
    {
     "data": {
      "text/plain": [
       "3"
      ]
     },
     "execution_count": 124,
     "metadata": {},
     "output_type": "execute_result"
    }
   ],
   "source": [
    "r.matched_count"
   ]
  },
  {
   "cell_type": "code",
   "execution_count": 126,
   "metadata": {
    "collapsed": false
   },
   "outputs": [
    {
     "data": {
      "text/plain": [
       "3"
      ]
     },
     "execution_count": 126,
     "metadata": {},
     "output_type": "execute_result"
    }
   ],
   "source": [
    "r.modified_count"
   ]
  },
  {
   "cell_type": "code",
   "execution_count": 131,
   "metadata": {
    "collapsed": false
   },
   "outputs": [],
   "source": [
    "r.upserted_id"
   ]
  },
  {
   "cell_type": "code",
   "execution_count": 132,
   "metadata": {
    "collapsed": false
   },
   "outputs": [
    {
     "data": {
      "text/plain": [
       "True"
      ]
     },
     "execution_count": 132,
     "metadata": {},
     "output_type": "execute_result"
    }
   ],
   "source": [
    "r.acknowledged"
   ]
  },
  {
   "cell_type": "code",
   "execution_count": 139,
   "metadata": {
    "collapsed": false
   },
   "outputs": [
    {
     "data": {
      "text/plain": [
       "{'connectionId': 324,\n",
       " 'err': None,\n",
       " 'n': 0,\n",
       " 'ok': 1.0,\n",
       " 'syncMillis': 0,\n",
       " 'writtenTo': None}"
      ]
     },
     "execution_count": 139,
     "metadata": {},
     "output_type": "execute_result"
    }
   ],
   "source": [
    "db.command('getlasterror')"
   ]
  },
  {
   "cell_type": "code",
   "execution_count": 140,
   "metadata": {
    "collapsed": false
   },
   "outputs": [
    {
     "name": "stdout",
     "output_type": "stream",
     "text": [
      "Help on method command in module pymongo.database:\n",
      "\n",
      "command(command, value=1, check=True, allowable_errors=None, read_preference=Primary(), codec_options=CodecOptions(document_class=dict, tz_aware=False, uuid_representation=PYTHON_LEGACY, unicode_decode_error_handler='strict', tzinfo=None), **kwargs) method of pymongo.database.Database instance\n",
      "    Issue a MongoDB command.\n",
      "    \n",
      "    Send command `command` to the database and return the\n",
      "    response. If `command` is an instance of :class:`basestring`\n",
      "    (:class:`str` in python 3) then the command {`command`: `value`}\n",
      "    will be sent. Otherwise, `command` must be an instance of\n",
      "    :class:`dict` and will be sent as is.\n",
      "    \n",
      "    Any additional keyword arguments will be added to the final\n",
      "    command document before it is sent.\n",
      "    \n",
      "    For example, a command like ``{buildinfo: 1}`` can be sent\n",
      "    using:\n",
      "    \n",
      "    >>> db.command(\"buildinfo\")\n",
      "    \n",
      "    For a command where the value matters, like ``{collstats:\n",
      "    collection_name}`` we can do:\n",
      "    \n",
      "    >>> db.command(\"collstats\", collection_name)\n",
      "    \n",
      "    For commands that take additional arguments we can use\n",
      "    kwargs. So ``{filemd5: object_id, root: file_root}`` becomes:\n",
      "    \n",
      "    >>> db.command(\"filemd5\", object_id, root=file_root)\n",
      "    \n",
      "    :Parameters:\n",
      "      - `command`: document representing the command to be issued,\n",
      "        or the name of the command (for simple commands only).\n",
      "    \n",
      "        .. note:: the order of keys in the `command` document is\n",
      "           significant (the \"verb\" must come first), so commands\n",
      "           which require multiple keys (e.g. `findandmodify`)\n",
      "           should use an instance of :class:`~bson.son.SON` or\n",
      "           a string and kwargs instead of a Python `dict`.\n",
      "    \n",
      "      - `value` (optional): value to use for the command verb when\n",
      "        `command` is passed as a string\n",
      "      - `check` (optional): check the response for errors, raising\n",
      "        :class:`~pymongo.errors.OperationFailure` if there are any\n",
      "      - `allowable_errors`: if `check` is ``True``, error messages\n",
      "        in this list will be ignored by error-checking\n",
      "      - `read_preference`: The read preference for this operation.\n",
      "        See :mod:`~pymongo.read_preferences` for options.\n",
      "      - `codec_options`: A :class:`~bson.codec_options.CodecOptions`\n",
      "        instance.\n",
      "      - `**kwargs` (optional): additional keyword arguments will\n",
      "        be added to the command document before it is sent\n",
      "    \n",
      "    .. note:: :meth:`command` does **not** obey :attr:`read_preference`\n",
      "       or :attr:`codec_options`. You must use the `read_preference` and\n",
      "       `codec_options` parameters instead.\n",
      "    \n",
      "    .. versionchanged:: 3.0\n",
      "       Removed the `as_class`, `fields`, `uuid_subtype`, `tag_sets`,\n",
      "       and `secondary_acceptable_latency_ms` option.\n",
      "       Removed `compile_re` option: PyMongo now always represents BSON\n",
      "       regular expressions as :class:`~bson.regex.Regex` objects. Use\n",
      "       :meth:`~bson.regex.Regex.try_compile` to attempt to convert from a\n",
      "       BSON regular expression to a Python regular expression object.\n",
      "       Added the `codec_options` parameter.\n",
      "    \n",
      "    .. versionchanged:: 2.7\n",
      "       Added `compile_re` option. If set to False, PyMongo represented BSON\n",
      "       regular expressions as :class:`~bson.regex.Regex` objects instead of\n",
      "       attempting to compile BSON regular expressions as Python native\n",
      "       regular expressions, thus preventing errors for some incompatible\n",
      "       patterns, see `PYTHON-500`_.\n",
      "    \n",
      "    .. versionchanged:: 2.3\n",
      "       Added `tag_sets` and `secondary_acceptable_latency_ms` options.\n",
      "    .. versionchanged:: 2.2\n",
      "       Added support for `as_class` - the class you want to use for\n",
      "       the resulting documents\n",
      "    \n",
      "    .. _PYTHON-500: https://jira.mongodb.org/browse/PYTHON-500\n",
      "    \n",
      "    .. mongodoc:: commands\n",
      "\n"
     ]
    }
   ],
   "source": [
    "help(db.command)"
   ]
  },
  {
   "cell_type": "markdown",
   "metadata": {},
   "source": [
    "## 3.3.5 返回被更新的文档"
   ]
  },
  {
   "cell_type": "code",
   "execution_count": 183,
   "metadata": {
    "collapsed": false
   },
   "outputs": [],
   "source": [
    "t.drop()"
   ]
  },
  {
   "cell_type": "code",
   "execution_count": 184,
   "metadata": {
    "collapsed": false
   },
   "outputs": [
    {
     "data": {
      "text/plain": [
       "<pymongo.results.InsertManyResult at 0x11a3d0588>"
      ]
     },
     "execution_count": 184,
     "metadata": {},
     "output_type": "execute_result"
    }
   ],
   "source": [
    "a = {'status': 'READY', 'priority': -1}\n",
    "b = {'status': 'RUNNING', 'priority': 0}\n",
    "c = {'status': 'DONE', 'priority': 0}\n",
    "t.insert_many([a, b, c])"
   ]
  },
  {
   "cell_type": "code",
   "execution_count": 185,
   "metadata": {
    "collapsed": false
   },
   "outputs": [
    {
     "data": {
      "text/plain": [
       "[{'_id': ObjectId('59aff924498ab1240384b9f8'),\n",
       "  'priority': -1,\n",
       "  'status': 'READY'},\n",
       " {'_id': ObjectId('59aff924498ab1240384b9f9'),\n",
       "  'priority': 0,\n",
       "  'status': 'RUNNING'},\n",
       " {'_id': ObjectId('59aff924498ab1240384b9fa'),\n",
       "  'priority': 0,\n",
       "  'status': 'DONE'}]"
      ]
     },
     "execution_count": 185,
     "metadata": {},
     "output_type": "execute_result"
    }
   ],
   "source": [
    "[_ for _ in t.find()]"
   ]
  },
  {
   "cell_type": "code",
   "execution_count": 186,
   "metadata": {
    "collapsed": false
   },
   "outputs": [],
   "source": [
    "ps = db.command({'findandmodify': 't',\n",
    "            'query': {'status': 'READY'},\n",
    "            'sort': {'priority': -1},\n",
    "            'update': {'$set': {'status': 'RUNNING'}}})"
   ]
  },
  {
   "cell_type": "code",
   "execution_count": 187,
   "metadata": {
    "collapsed": false
   },
   "outputs": [
    {
     "data": {
      "text/plain": [
       "{'lastErrorObject': {'n': 1, 'updatedExisting': True},\n",
       " 'ok': 1.0,\n",
       " 'value': {'_id': ObjectId('59aff924498ab1240384b9f8'),\n",
       "  'priority': -1,\n",
       "  'status': 'READY'}}"
      ]
     },
     "execution_count": 187,
     "metadata": {},
     "output_type": "execute_result"
    }
   ],
   "source": [
    "ps"
   ]
  },
  {
   "cell_type": "code",
   "execution_count": 191,
   "metadata": {
    "collapsed": false,
    "scrolled": true
   },
   "outputs": [
    {
     "data": {
      "text/plain": [
       "{'_id': ObjectId('59aff924498ab1240384b9f8'),\n",
       " 'priority': -1,\n",
       " 'status': 'RUNNING'}"
      ]
     },
     "execution_count": 191,
     "metadata": {},
     "output_type": "execute_result"
    }
   ],
   "source": [
    "t.find_one({'_id': ps['value']['_id']})"
   ]
  },
  {
   "cell_type": "code",
   "execution_count": 201,
   "metadata": {
    "collapsed": false
   },
   "outputs": [
    {
     "data": {
      "text/plain": [
       "<pymongo.results.InsertManyResult at 0x11a3d0bc8>"
      ]
     },
     "execution_count": 201,
     "metadata": {},
     "output_type": "execute_result"
    }
   ],
   "source": [
    "t.drop()\n",
    "a = {'status': 'READY', 'priority': -1}\n",
    "b = {'status': 'RUNNING', 'priority': 0}\n",
    "c = {'status': 'DONE', 'priority': 0}\n",
    "t.insert_many([a, b, c])"
   ]
  },
  {
   "cell_type": "code",
   "execution_count": 202,
   "metadata": {
    "collapsed": false
   },
   "outputs": [],
   "source": [
    "ps = db.command({'findandmodify': 't',\n",
    "                'query': {'status': 'READY'},\n",
    "                'sort': {'priority': -1},\n",
    "                'remove': True})"
   ]
  },
  {
   "cell_type": "code",
   "execution_count": 203,
   "metadata": {
    "collapsed": false
   },
   "outputs": [
    {
     "data": {
      "text/plain": [
       "{'lastErrorObject': {'n': 1},\n",
       " 'ok': 1.0,\n",
       " 'value': {'_id': ObjectId('59affa22498ab1240384ba01'),\n",
       "  'priority': -1,\n",
       "  'status': 'READY'}}"
      ]
     },
     "execution_count": 203,
     "metadata": {},
     "output_type": "execute_result"
    }
   ],
   "source": [
    "ps"
   ]
  },
  {
   "cell_type": "code",
   "execution_count": 204,
   "metadata": {
    "collapsed": true
   },
   "outputs": [],
   "source": [
    "t.find_one({'_id': ps['value']['_id']})"
   ]
  },
  {
   "cell_type": "code",
   "execution_count": null,
   "metadata": {
    "collapsed": true
   },
   "outputs": [],
   "source": []
  }
 ],
 "metadata": {
  "kernelspec": {
   "display_name": "Python 3",
   "language": "python",
   "name": "python3"
  },
  "language_info": {
   "codemirror_mode": {
    "name": "ipython",
    "version": 3
   },
   "file_extension": ".py",
   "mimetype": "text/x-python",
   "name": "python",
   "nbconvert_exporter": "python",
   "pygments_lexer": "ipython3",
   "version": "3.6.0"
  }
 },
 "nbformat": 4,
 "nbformat_minor": 2
}
