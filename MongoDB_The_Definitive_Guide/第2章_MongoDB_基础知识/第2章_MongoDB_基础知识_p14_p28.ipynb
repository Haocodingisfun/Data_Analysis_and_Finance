{
 "cells": [
  {
   "cell_type": "markdown",
   "metadata": {},
   "source": [
    "以下部分操作由 pymongo 完成"
   ]
  },
  {
   "cell_type": "markdown",
   "metadata": {},
   "source": [
    "## 2.5.3 shell 中的基本操作"
   ]
  },
  {
   "cell_type": "markdown",
   "metadata": {},
   "source": [
    "### 1.创建"
   ]
  },
  {
   "cell_type": "code",
   "execution_count": 1,
   "metadata": {
    "collapsed": true
   },
   "outputs": [],
   "source": [
    "from pymongo import MongoClient"
   ]
  },
  {
   "cell_type": "code",
   "execution_count": 2,
   "metadata": {
    "collapsed": true
   },
   "outputs": [],
   "source": [
    "client = MongoClient()"
   ]
  },
  {
   "cell_type": "code",
   "execution_count": 3,
   "metadata": {
    "collapsed": true
   },
   "outputs": [],
   "source": [
    "db = client.datas"
   ]
  },
  {
   "cell_type": "code",
   "execution_count": 4,
   "metadata": {
    "collapsed": true
   },
   "outputs": [],
   "source": [
    "collection = db.new"
   ]
  },
  {
   "cell_type": "code",
   "execution_count": 11,
   "metadata": {
    "collapsed": true
   },
   "outputs": [],
   "source": [
    "from dateutil.parser import parse"
   ]
  },
  {
   "cell_type": "code",
   "execution_count": 12,
   "metadata": {
    "collapsed": false
   },
   "outputs": [],
   "source": [
    "t = {\n",
    "    \"comment\" : 70.0,\n",
    "    \"view\" : 53813.0,\n",
    "    \"like\" : 32.0,\n",
    "    \"url\" : \"765\",\n",
    "    \"title\" : \"新功能发布汇总贴 - 20170706更新\",\n",
    "    \"clone_time\" : 2.0,\n",
    "    \"modified_time\" : parse(\"2017-04-11T07:53:36.964Z\"),\n",
    "    \"published_time\" : parse(\"2016-03-28T10:00:58.623Z\"),\n",
    "    \"share1\" : 1.0,\n",
    "    \"share2\" : 1.0\n",
    "}"
   ]
  },
  {
   "cell_type": "code",
   "execution_count": 13,
   "metadata": {
    "collapsed": true
   },
   "outputs": [],
   "source": [
    "r = collection.insert_one(t)"
   ]
  },
  {
   "cell_type": "code",
   "execution_count": 15,
   "metadata": {
    "collapsed": false
   },
   "outputs": [
    {
     "data": {
      "text/plain": [
       "Collection(Database(MongoClient(host=['localhost:27017'], document_class=dict, tz_aware=False, connect=True), 'datas'), 'new')"
      ]
     },
     "execution_count": 15,
     "metadata": {},
     "output_type": "execute_result"
    }
   ],
   "source": [
    "collection"
   ]
  },
  {
   "cell_type": "markdown",
   "metadata": {},
   "source": [
    "### 2.读取"
   ]
  },
  {
   "cell_type": "code",
   "execution_count": 19,
   "metadata": {
    "collapsed": false
   },
   "outputs": [
    {
     "data": {
      "text/plain": [
       "<pymongo.cursor.Cursor at 0x11087e3c8>"
      ]
     },
     "execution_count": 19,
     "metadata": {},
     "output_type": "execute_result"
    }
   ],
   "source": [
    "db.new.find()"
   ]
  },
  {
   "cell_type": "code",
   "execution_count": 20,
   "metadata": {
    "collapsed": false
   },
   "outputs": [
    {
     "data": {
      "text/plain": [
       "{'_id': ObjectId('59aa2c48498ab114a3a827fa'),\n",
       " 'clone_time': 2.0,\n",
       " 'comment': 70.0,\n",
       " 'like': 32.0,\n",
       " 'modified_time': datetime.datetime(2017, 4, 11, 7, 53, 36, 964000),\n",
       " 'published_time': datetime.datetime(2016, 3, 28, 10, 0, 58, 623000),\n",
       " 'share1': 1.0,\n",
       " 'share2': 1.0,\n",
       " 'title': '新功能发布汇总贴 - 20170706更新',\n",
       " 'url': '765',\n",
       " 'view': 53813.0}"
      ]
     },
     "execution_count": 20,
     "metadata": {},
     "output_type": "execute_result"
    }
   ],
   "source": [
    "db.new.find_one()"
   ]
  },
  {
   "cell_type": "code",
   "execution_count": 23,
   "metadata": {
    "collapsed": false
   },
   "outputs": [],
   "source": [
    "import pprint"
   ]
  },
  {
   "cell_type": "markdown",
   "metadata": {},
   "source": [
    "### 3.更新"
   ]
  },
  {
   "cell_type": "code",
   "execution_count": 35,
   "metadata": {
    "collapsed": false
   },
   "outputs": [
    {
     "data": {
      "text/plain": [
       "dict_keys(['comment', 'view', 'like', 'url', 'title', 'clone_time', 'modified_time', 'published_time', 'share1', 'share2', '_id'])"
      ]
     },
     "execution_count": 35,
     "metadata": {},
     "output_type": "execute_result"
    }
   ],
   "source": [
    "t.keys()"
   ]
  },
  {
   "cell_type": "code",
   "execution_count": 37,
   "metadata": {
    "collapsed": false
   },
   "outputs": [],
   "source": [
    "t['add_new'] = []"
   ]
  },
  {
   "cell_type": "code",
   "execution_count": 38,
   "metadata": {
    "collapsed": false
   },
   "outputs": [
    {
     "data": {
      "text/plain": [
       "<pymongo.results.UpdateResult at 0x1108e5c08>"
      ]
     },
     "execution_count": 38,
     "metadata": {},
     "output_type": "execute_result"
    }
   ],
   "source": [
    "db.new.replace_one({'comment': 70}, t)"
   ]
  },
  {
   "cell_type": "code",
   "execution_count": 39,
   "metadata": {
    "collapsed": false
   },
   "outputs": [
    {
     "data": {
      "text/plain": [
       "{'_id': ObjectId('59aa2c48498ab114a3a827fa'),\n",
       " 'add_new': [],\n",
       " 'clone_time': 2.0,\n",
       " 'comment': 70.0,\n",
       " 'like': 32.0,\n",
       " 'modified_time': datetime.datetime(2017, 4, 11, 7, 53, 36, 964000),\n",
       " 'published_time': datetime.datetime(2016, 3, 28, 10, 0, 58, 623000),\n",
       " 'share1': 1.0,\n",
       " 'share2': 1.0,\n",
       " 'title': '新功能发布汇总贴 - 20170706更新',\n",
       " 'url': '765',\n",
       " 'view': 53813.0}"
      ]
     },
     "execution_count": 39,
     "metadata": {},
     "output_type": "execute_result"
    }
   ],
   "source": [
    "db.new.find_one()"
   ]
  },
  {
   "cell_type": "markdown",
   "metadata": {},
   "source": [
    "### 4.删除"
   ]
  },
  {
   "cell_type": "code",
   "execution_count": 43,
   "metadata": {
    "collapsed": false
   },
   "outputs": [
    {
     "data": {
      "text/plain": [
       "<pymongo.results.DeleteResult at 0x1108e5a48>"
      ]
     },
     "execution_count": 43,
     "metadata": {},
     "output_type": "execute_result"
    }
   ],
   "source": [
    "db.new.delete_one({'comment': 70})"
   ]
  },
  {
   "cell_type": "code",
   "execution_count": 44,
   "metadata": {
    "collapsed": false
   },
   "outputs": [],
   "source": [
    "db.new.find_one()"
   ]
  },
  {
   "cell_type": "markdown",
   "metadata": {},
   "source": [
    "# 2.6 基本数据类型"
   ]
  },
  {
   "cell_type": "markdown",
   "metadata": {},
   "source": [
    "## 2.6.1 基本数据类型"
   ]
  },
  {
   "cell_type": "markdown",
   "metadata": {},
   "source": [
    "    {'x': null}\n",
    "    {'x': true}\n",
    "    {'x': 3.14}\n",
    "    {'x': 3}\n",
    "    {'x': NumberInt('3')}\n",
    "    {'x': NumberLong('3')}\n",
    "    {'x': 'foobar'}\n",
    "    {'x': new Date()}\n",
    "    {'x': /foobar/i}\n",
    "    {'x': ['a', 'b', 'c']}\n",
    "    {'x': {'foo': 'bar'}}\n",
    "    {'x': ObjectID()}\n",
    "    {'x': funtion() {/*...*/}}"
   ]
  },
  {
   "cell_type": "markdown",
   "metadata": {},
   "source": [
    "## 2.6.2 日期"
   ]
  },
  {
   "cell_type": "markdown",
   "metadata": {},
   "source": [
    "时区信息应当储存为另一个键的值"
   ]
  },
  {
   "cell_type": "markdown",
   "metadata": {},
   "source": [
    "## 2.6.3 数组"
   ]
  },
  {
   "cell_type": "markdown",
   "metadata": {},
   "source": [
    "    {'things': ['pie': 3.14]}"
   ]
  },
  {
   "cell_type": "markdown",
   "metadata": {},
   "source": [
    "## 2.6.4"
   ]
  },
  {
   "cell_type": "markdown",
   "metadata": {},
   "source": [
    "    {\n",
    "        'name': 'John Doe',\n",
    "        'address': {\n",
    "            'street': '123 Park Streer',\n",
    "            'city': 'Anytown',\n",
    "            'state': 'NY'\n",
    "        }\n",
    "    }"
   ]
  },
  {
   "cell_type": "markdown",
   "metadata": {},
   "source": [
    "## 2.6.5 _id 和 ObjectID"
   ]
  },
  {
   "cell_type": "markdown",
   "metadata": {},
   "source": [
    "# 2.7 使用 MOngoDB shell"
   ]
  },
  {
   "cell_type": "markdown",
   "metadata": {},
   "source": [
    "## 2.7.1 shell 小贴士"
   ]
  },
  {
   "cell_type": "markdown",
   "metadata": {},
   "source": [
    "    > help\n",
    "        db.help()                    help on db methods\n",
    "        db.mycoll.help()             help on collection methods\n",
    "        sh.help()                    sharding helpers\n",
    "        rs.help()                    replica set helpers\n",
    "        help admin                   administrative help\n",
    "        help connect                 connecting to a db help\n",
    "        help keys                    key shortcuts\n",
    "        help misc                    misc things to know\n",
    "        help mr                      mapreduce\n",
    "\n",
    "        show dbs                     show database names\n",
    "        show collections             show collections in current database\n",
    "        show users                   show users in current database\n",
    "        show profile                 show most recent system.profile entries with time >= 1ms\n",
    "        show logs                    show the accessible logger names\n",
    "        show log [name]              prints out the last segment of log in memory, 'global' is default\n",
    "        use <db_name>                set current database\n",
    "        db.foo.find()                list objects in collection foo\n",
    "        db.foo.find( { a : 1 } )     list objects in foo where a == 1\n",
    "        it                           result of the last line evaluated; use to further iterate\n",
    "        DBQuery.shellBatchSize = x   set default number of items to display on shell\n",
    "        exit                         quit the mongo shell\n",
    "    > db.help()\n",
    "    DB methods:\n",
    "        db.adminCommand(nameOrDocument) - switches to 'admin' db, and runs command [ just calls db.runCommand(...) ]\n",
    "        db.auth(username, password)\n",
    "        db.cloneDatabase(fromhost)\n",
    "        db.commandHelp(name) returns the help for the command\n",
    "        db.copyDatabase(fromdb, todb, fromhost)\n",
    "        db.createCollection(name, { size : ..., capped : ..., max : ... } )\n",
    "        db.createView(name, viewOn, [ { $operator: {...}}, ... ], { viewOptions } )\n",
    "        db.createUser(userDocument)\n",
    "        db.currentOp() displays currently executing operations in the db\n",
    "        db.dropDatabase()\n",
    "        db.eval() - deprecated\n",
    "        db.fsyncLock() flush data to disk and lock server for backups\n",
    "        db.fsyncUnlock() unlocks server following a db.fsyncLock()\n",
    "        db.getCollection(cname) same as db['cname'] or db.cname\n",
    "        db.getCollectionInfos([filter]) - returns a list that contains the names and options of the db's collections\n",
    "        db.getCollectionNames()\n",
    "        db.getLastError() - just returns the err msg string\n",
    "        db.getLastErrorObj() - return full status object\n",
    "        db.getLogComponents()\n",
    "        db.getMongo() get the server connection object\n",
    "        db.getMongo().setSlaveOk() allow queries on a replication slave server\n",
    "        db.getName()\n",
    "        db.getPrevError()\n",
    "        db.getProfilingLevel() - deprecated\n",
    "        db.getProfilingStatus() - returns if profiling is on and slow threshold\n",
    "        db.getReplicationInfo()\n",
    "        db.getSiblingDB(name) get the db at the same server as this one\n",
    "        db.getWriteConcern() - returns the write concern used for any operations on this db, inherited from server object if set\n",
    "        db.hostInfo() get details about the server's host\n",
    "        db.isMaster() check replica primary status\n",
    "        db.killOp(opid) kills the current operation in the db\n",
    "        db.listCommands() lists all the db commands\n",
    "        db.loadServerScripts() loads all the scripts in db.system.js\n",
    "        db.logout()\n",
    "        db.printCollectionStats()\n",
    "        db.printReplicationInfo()\n",
    "        db.printShardingStatus()\n",
    "        db.printSlaveReplicationInfo()\n",
    "        db.dropUser(username)\n",
    "        db.repairDatabase()\n",
    "        db.resetError()\n",
    "        db.runCommand(cmdObj) run a database command.  if cmdObj is a string, turns it into { cmdObj : 1 }\n",
    "        db.serverStatus()\n",
    "        db.setLogLevel(level,<component>)\n",
    "        db.setProfilingLevel(level,<slowms>) 0=off 1=slow 2=all\n",
    "        db.setWriteConcern( <write concern doc> ) - sets the write concern for writes to the db\n",
    "        db.unsetWriteConcern( <write concern doc> ) - unsets the write concern for writes to the db\n",
    "        db.setVerboseShell(flag) display extra information in shell output\n",
    "        db.shutdownServer()\n",
    "        db.stats()\n",
    "        db.version() current version of the server\n",
    "    > db.foo.update\n",
    "    function (query, obj, upsert, multi) {\n",
    "        var parsed = this._parseUpdate(query, obj, upsert, multi);\n",
    "        var query = parsed.query;\n",
    "        var obj = parsed.obj;\n",
    "        var upsert = parsed.upsert;\n",
    "        var multi = parsed.multi;\n",
    "        var wc = parsed.wc;\n",
    "        var collation = parsed.collation;\n",
    "\n",
    "        var result = undefined;\n",
    "        var startTime =\n",
    "            (typeof(_verboseShell) === 'undefined' || !_verboseShell) ? 0 : new Date().getTime();\n",
    "\n",
    "        if (this.getMongo().writeMode() != \"legacy\") {\n",
    "            var bulk = this.initializeOrderedBulkOp();\n",
    "            var updateOp = bulk.find(query);\n",
    "\n",
    "            if (upsert) {\n",
    "                updateOp = updateOp.upsert();\n",
    "            }\n",
    "\n",
    "            if (collation) {\n",
    "                updateOp.collation(collation);\n",
    "            }\n",
    "\n",
    "            if (multi) {\n",
    "                updateOp.update(obj);\n",
    "            } else {\n",
    "                updateOp.updateOne(obj);\n",
    "            }\n",
    "\n",
    "            try {\n",
    "                result = bulk.execute(wc).toSingleResult();\n",
    "            } catch (ex) {\n",
    "                if (ex instanceof BulkWriteError || ex instanceof WriteCommandError) {\n",
    "                    result = ex.toSingleResult();\n",
    "                } else {\n",
    "                    // Other exceptions thrown\n",
    "                    throw Error(ex);\n",
    "                }\n",
    "            }\n",
    "        } else {\n",
    "            if (collation) {\n",
    "                throw new Error(\"collation requires use of write commands\");\n",
    "            }\n",
    "\n",
    "            this._validateUpdateDoc(obj);\n",
    "            this.getMongo().update(this._fullName, query, obj, upsert, multi);\n",
    "\n",
    "            // Enforce write concern, if required\n",
    "            if (wc) {\n",
    "                result = this.runCommand(\"getLastError\", wc instanceof WriteConcern ? wc.toJSON() : wc);\n",
    "            }\n",
    "        }\n",
    "\n",
    "        this._printExtraInfo(\"Updated\", startTime);\n",
    "        return result;\n",
    "    }\n"
   ]
  },
  {
   "cell_type": "markdown",
   "metadata": {},
   "source": [
    "## 2.7.2 使用 shell 执行脚本"
   ]
  },
  {
   "cell_type": "markdown",
   "metadata": {},
   "source": [
    "    > typeof connectTo\n",
    "    undefined\n",
    "    > load('/Users/wonderful/Desktop/defineConnectTo.js')\n",
    "    true\n",
    "    > typeof connectTo\n",
    "    function"
   ]
  },
  {
   "cell_type": "markdown",
   "metadata": {},
   "source": [
    "## 2.7.3 创建 .mongorc.js 文件"
   ]
  },
  {
   "cell_type": "markdown",
   "metadata": {},
   "source": [
    "## 2.7.4 定制 shell 提示"
   ]
  },
  {
   "cell_type": "markdown",
   "metadata": {},
   "source": [
    "## 2.7.5 编辑复合变量"
   ]
  },
  {
   "cell_type": "markdown",
   "metadata": {},
   "source": [
    "## 2.7.6 集合命名注意事项"
   ]
  },
  {
   "cell_type": "markdown",
   "metadata": {},
   "source": [
    "    > db.version\n",
    "    function () {\n",
    "            return this.serverBuildInfo().version;\n",
    "        }\n",
    "    > sb.getCollection('version')\n",
    "    2017-09-02T14:25:28.714+0800 E QUERY    [thread1] ReferenceError: sb is not defined :\n",
    "    @(shell):1:1"
   ]
  },
  {
   "cell_type": "markdown",
   "metadata": {},
   "source": [
    "    var collections = ['posts', 'comments', 'authors']\n",
    "    for (var in collections) {\n",
    "        print(db.blog[collections[i]])\n",
    "    }"
   ]
  },
  {
   "cell_type": "markdown",
   "metadata": {},
   "source": [
    "    var name = '@#&!'\n",
    "    db[name].find()"
   ]
  },
  {
   "cell_type": "code",
   "execution_count": null,
   "metadata": {
    "collapsed": true
   },
   "outputs": [],
   "source": []
  }
 ],
 "metadata": {
  "kernelspec": {
   "display_name": "Python 3",
   "language": "python",
   "name": "python3"
  },
  "language_info": {
   "codemirror_mode": {
    "name": "ipython",
    "version": 3
   },
   "file_extension": ".py",
   "mimetype": "text/x-python",
   "name": "python",
   "nbconvert_exporter": "python",
   "pygments_lexer": "ipython3",
   "version": "3.6.0"
  }
 },
 "nbformat": 4,
 "nbformat_minor": 2
}
