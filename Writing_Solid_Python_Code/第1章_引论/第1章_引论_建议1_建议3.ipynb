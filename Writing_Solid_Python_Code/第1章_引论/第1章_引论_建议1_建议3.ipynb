{
 "cells": [
  {
   "cell_type": "markdown",
   "metadata": {},
   "source": [
    "# 建议 1: 理解 `Pythonic` 概念"
   ]
  },
  {
   "cell_type": "code",
   "execution_count": 3,
   "metadata": {
    "collapsed": true
   },
   "outputs": [],
   "source": [
    "def quicksort(array):\n",
    "    less = []; greater = []\n",
    "    if len(array) <= 1:\n",
    "        return array\n",
    "    pivot = array.pop()\n",
    "    for x in array:\n",
    "        if x <= pivot: less.append(x)\n",
    "        else: greater.append(x)\n",
    "    return quicksort(less) + [pivot] + quicksort(greater)"
   ]
  },
  {
   "cell_type": "code",
   "execution_count": 4,
   "metadata": {
    "collapsed": false
   },
   "outputs": [
    {
     "data": {
      "text/plain": [
       "[1, 3, 4, 7, 9, 34, 42]"
      ]
     },
     "execution_count": 4,
     "metadata": {},
     "output_type": "execute_result"
    }
   ],
   "source": [
    "quicksort([34, 4, 42, 3, 7, 9, 1])"
   ]
  },
  {
   "cell_type": "code",
   "execution_count": 7,
   "metadata": {
    "collapsed": false
   },
   "outputs": [
    {
     "name": "stdout",
     "output_type": "stream",
     "text": [
      "Help on method_descriptor:\n",
      "\n",
      "pop(...)\n",
      "    L.pop([index]) -> item -- remove and return item at index (default last).\n",
      "    Raises IndexError if list is empty or index is out of range.\n",
      "\n"
     ]
    }
   ],
   "source": [
    "help(list.pop)"
   ]
  },
  {
   "cell_type": "markdown",
   "metadata": {},
   "source": [
    "    a, b = b, a"
   ]
  },
  {
   "cell_type": "markdown",
   "metadata": {},
   "source": [
    "    for i in alist:\n",
    "        do_sth_with(f)"
   ]
  },
  {
   "cell_type": "markdown",
   "metadata": {},
   "source": [
    "    with open(path, 'r') as f:\n",
    "        do_sht_with(f)"
   ]
  },
  {
   "cell_type": "code",
   "execution_count": 11,
   "metadata": {
    "collapsed": false
   },
   "outputs": [
    {
     "name": "stdout",
     "output_type": "stream",
     "text": [
      "[4, 3, 2, 1]\n",
      "fedcba\n"
     ]
    }
   ],
   "source": [
    "a = [1, 2, 3, 4]\n",
    "c = 'abcdef'\n",
    "print(a[::-1])\n",
    "print(c[::-1])"
   ]
  },
  {
   "cell_type": "code",
   "execution_count": 13,
   "metadata": {
    "collapsed": false
   },
   "outputs": [
    {
     "name": "stdout",
     "output_type": "stream",
     "text": [
      "[4, 3, 2, 1]\n",
      "['f', 'e', 'd', 'c', 'b', 'a']\n"
     ]
    }
   ],
   "source": [
    "print(list(reversed(a)))\n",
    "print(list(reversed(c)))"
   ]
  },
  {
   "cell_type": "code",
   "execution_count": 19,
   "metadata": {
    "collapsed": false
   },
   "outputs": [
    {
     "name": "stdout",
     "output_type": "stream",
     "text": [
      "Hello Tom\n"
     ]
    }
   ],
   "source": [
    "print('Hello %(name)s' % {'name': 'Tom'})"
   ]
  },
  {
   "cell_type": "code",
   "execution_count": 22,
   "metadata": {
    "collapsed": true
   },
   "outputs": [],
   "source": [
    "value = {'greet': 'Hello world', 'language': 'Python'}"
   ]
  },
  {
   "cell_type": "code",
   "execution_count": 23,
   "metadata": {
    "collapsed": false
   },
   "outputs": [
    {
     "name": "stdout",
     "output_type": "stream",
     "text": [
      "Hello world from Python.\n"
     ]
    }
   ],
   "source": [
    "print('%(greet)s from %(language)s.' % value)"
   ]
  },
  {
   "cell_type": "code",
   "execution_count": 25,
   "metadata": {
    "collapsed": false
   },
   "outputs": [
    {
     "name": "stdout",
     "output_type": "stream",
     "text": [
      "Hello world from Python.\n"
     ]
    }
   ],
   "source": [
    "print('{greet} from {language}.'.format(greet = 'Hello world', language = 'Python'))"
   ]
  },
  {
   "cell_type": "markdown",
   "metadata": {},
   "source": [
    "    from flask import Flask\n",
    "    app = Flask(__name__)\n",
    "    @app.route('/')\n",
    "    def hello():\n",
    "        return \"Hello world!\"\n",
    "\n",
    "    if __name__ == '__main__':\n",
    "        app.run()"
   ]
  },
  {
   "cell_type": "markdown",
   "metadata": {},
   "source": [
    "# 建议 2: 编写 `Pythonic` 代码"
   ]
  },
  {
   "cell_type": "code",
   "execution_count": 1,
   "metadata": {
    "collapsed": true
   },
   "outputs": [],
   "source": [
    "def find_num(searchList, num):\n",
    "    for listValue in searchList:\n",
    "        if num == listValue:\n",
    "            return True\n",
    "        else:\n",
    "            pass"
   ]
  },
  {
   "cell_type": "code",
   "execution_count": 4,
   "metadata": {
    "collapsed": true
   },
   "outputs": [],
   "source": [
    "person_info = {'name': 'Jon',\n",
    "               'IdCard': '200304',\n",
    "               'address': 'Num203.Mongday Road',\n",
    "               'email': 'test@gail.com'}"
   ]
  },
  {
   "cell_type": "code",
   "execution_count": 7,
   "metadata": {
    "collapsed": false
   },
   "outputs": [
    {
     "name": "stdout",
     "output_type": "stream",
     "text": [
      "401\n",
      "application/json; charset=utf-8\n"
     ]
    }
   ],
   "source": [
    "import requests\n",
    "r = requests.get('https://api.github.com', \n",
    "                auth=('user', 'pass'))\n",
    "print(r.status_code)\n",
    "print(r.headers['content-type'])"
   ]
  },
  {
   "cell_type": "markdown",
   "metadata": {},
   "source": [
    "    if foo == 'blah':\n",
    "        do_blah_thing()\n",
    "        do_one()\n",
    "        do_two()\n",
    "        do_three()"
   ]
  },
  {
   "cell_type": "markdown",
   "metadata": {},
   "source": [
    "    Last login: Fri Oct  6 22:16:43 on ttys001\n",
    "    HF:~ wonderful$ pip install -U pep8\n",
    "    Requirement already up-to-date: pep8 in ./anaconda/lib/python3.6/site-packages"
   ]
  },
  {
   "cell_type": "markdown",
   "metadata": {},
   "source": [
    "    Last login: Sat Oct  7 22:25:17 on ttys001\n",
    "    HF:~ wonderful$ pep8 --first /Users/wonderful/Desktop/test.py \n",
    "    /Users/wonderful/Desktop/test.py:3:32: W291 trailing whitespace\n",
    "    /Users/wonderful/Desktop/test.py:9:1: W191 indentation contains tabs\n",
    "    /Users/wonderful/Desktop/test.py:37:80: E501 line too long (86 > 79 characters)\n",
    "    /Users/wonderful/Desktop/test.py:56:1: W391 blank line at end of file"
   ]
  },
  {
   "cell_type": "markdown",
   "metadata": {},
   "source": [
    "# 建议 3: 理解 Python 与 C 语言的不同之处"
   ]
  },
  {
   "cell_type": "code",
   "execution_count": 13,
   "metadata": {
    "collapsed": false
   },
   "outputs": [
    {
     "data": {
      "text/plain": [
       "-2"
      ]
     },
     "execution_count": 13,
     "metadata": {},
     "output_type": "execute_result"
    }
   ],
   "source": [
    "X = 0\n",
    "Y = -2\n",
    "print(X) if X < Y else Y"
   ]
  },
  {
   "cell_type": "code",
   "execution_count": 15,
   "metadata": {
    "collapsed": false
   },
   "outputs": [
    {
     "name": "stdout",
     "output_type": "stream",
     "text": [
      "-6\n"
     ]
    }
   ],
   "source": [
    "X = 0\n",
    "Y = -6\n",
    "print(X) if X < Y else print(Y)"
   ]
  },
  {
   "cell_type": "code",
   "execution_count": 18,
   "metadata": {
    "collapsed": true
   },
   "outputs": [],
   "source": [
    "def f(x):\n",
    "    return {\n",
    "        0: 'You typed zero.\\n',\n",
    "        1: 'You are in top.\\n',\n",
    "        2: 'n is an even number.\\n',\n",
    "    }.get(x, 'Only single-digit numbers are allowed.\\n')"
   ]
  },
  {
   "cell_type": "code",
   "execution_count": 19,
   "metadata": {
    "collapsed": false
   },
   "outputs": [
    {
     "data": {
      "text/plain": [
       "'You typed zero.\\n'"
      ]
     },
     "execution_count": 19,
     "metadata": {},
     "output_type": "execute_result"
    }
   ],
   "source": [
    "f(0)"
   ]
  },
  {
   "cell_type": "code",
   "execution_count": 20,
   "metadata": {
    "collapsed": true
   },
   "outputs": [],
   "source": [
    "def g(x):\n",
    "    return {\n",
    "        0: 'You typed zero.\\n',\n",
    "        1: 'You are in top.\\n',\n",
    "        2: 'n is an even number.\\n',\n",
    "    }.get(x)"
   ]
  },
  {
   "cell_type": "code",
   "execution_count": 21,
   "metadata": {
    "collapsed": false
   },
   "outputs": [
    {
     "data": {
      "text/plain": [
       "'You typed zero.\\n'"
      ]
     },
     "execution_count": 21,
     "metadata": {},
     "output_type": "execute_result"
    }
   ],
   "source": [
    "g(0)"
   ]
  },
  {
   "cell_type": "code",
   "execution_count": 22,
   "metadata": {
    "collapsed": false
   },
   "outputs": [
    {
     "data": {
      "text/plain": [
       "'You are in top.\\n'"
      ]
     },
     "execution_count": 22,
     "metadata": {},
     "output_type": "execute_result"
    }
   ],
   "source": [
    "g(1)"
   ]
  },
  {
   "cell_type": "code",
   "execution_count": null,
   "metadata": {
    "collapsed": true
   },
   "outputs": [],
   "source": []
  }
 ],
 "metadata": {
  "kernelspec": {
   "display_name": "Python 3",
   "language": "python",
   "name": "python3"
  },
  "language_info": {
   "codemirror_mode": {
    "name": "ipython",
    "version": 3
   },
   "file_extension": ".py",
   "mimetype": "text/x-python",
   "name": "python",
   "nbconvert_exporter": "python",
   "pygments_lexer": "ipython3",
   "version": "3.6.0"
  }
 },
 "nbformat": 4,
 "nbformat_minor": 2
}
