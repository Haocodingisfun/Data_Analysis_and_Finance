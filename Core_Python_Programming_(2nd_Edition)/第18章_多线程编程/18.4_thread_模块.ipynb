{
 "cells": [
  {
   "cell_type": "markdown",
   "metadata": {},
   "source": [
    "    HF:~ wonderful$ python2.7 /Users/wonderful/Desktop/mtsleep1.py \n",
    "    stating at: Fri Aug 18 10:26:10 2017\n",
    "    start loop 0 at: Fri Aug 18 10:26:10 2017\n",
    "     start loop 1 at: Fri Aug 18 10:26:10 2017\n",
    "    loop 1 done at: Fri Aug 18 10:26:12 2017\n",
    "    loop 0 done at: Fri Aug 18 10:26:14 2017\n",
    "    all Done at: Fri Aug 18 10:26:16 2017"
   ]
  },
  {
   "cell_type": "markdown",
   "metadata": {},
   "source": [
    "    HF:~ wonderful$ python2.7 /Users/wonderful/Desktop/mtsleep2.py\n",
    "    starting at: Fri Aug 18 10:39:04 2017\n",
    "    start loop 0start loop at: Fri Aug 18 10:39:04 2017\n",
    "     1 at: Fri Aug 18 10:39:04 2017\n",
    "    loop 1 done at: Fri Aug 18 10:39:06 2017\n",
    "    loop 0 done at: Fri Aug 18 10:39:08 2017\n",
    "    all DONE at: Fri Aug 18 10:39:08 2017"
   ]
  }
 ],
 "metadata": {
  "kernelspec": {
   "display_name": "Python 3",
   "language": "python",
   "name": "python3"
  },
  "language_info": {
   "codemirror_mode": {
    "name": "ipython",
    "version": 3
   },
   "file_extension": ".py",
   "mimetype": "text/x-python",
   "name": "python",
   "nbconvert_exporter": "python",
   "pygments_lexer": "ipython3",
   "version": "3.6.0"
  }
 },
 "nbformat": 4,
 "nbformat_minor": 2
}
