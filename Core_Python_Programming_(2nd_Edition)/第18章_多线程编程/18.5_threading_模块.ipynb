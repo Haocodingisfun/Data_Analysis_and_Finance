{
 "cells": [
  {
   "cell_type": "markdown",
   "metadata": {},
   "source": [
    "# 18.5.1 Thread 类"
   ]
  },
  {
   "cell_type": "markdown",
   "metadata": {},
   "source": [
    "    HF:~ wonderful$ python2.7 /Users/wonderful/Desktop/mtsleep3.py\n",
    "    stating at: Fri Aug 18 11:20:19 2017\n",
    "    start loop 0start loop 1 at: Fri Aug 18 11:20:19 2017\n",
    "     at: Fri Aug 18 11:20:19 2017\n",
    "    loop 1 done at: Fri Aug 18 11:20:21 2017\n",
    "    loop 0 done at: Fri Aug 18 11:20:23 2017\n",
    "    all DONE at: Fri Aug 18 11:20:23 2017"
   ]
  },
  {
   "cell_type": "markdown",
   "metadata": {},
   "source": [
    "    HF:~ wonderful$ python2.7 /Users/wonderful/Desktop/mtsleep4.py \n",
    "    starting at: Fri Aug 18 11:56:16 2017\n",
    "    start loop 0 start loop 1 at: Fri Aug 18 11:56:16 2017\n",
    "    at: Fri Aug 18 11:56:16 2017\n",
    "    loop 1 done at: Fri Aug 18 11:56:18 2017\n",
    "    loop 0 done at: Fri Aug 18 11:56:20 2017\n",
    "    all DONE at: Fri Aug 18 11:56:20 2017"
   ]
  },
  {
   "cell_type": "markdown",
   "metadata": {},
   "source": [
    "# 18.5.2 斐波那契、阶乘和累和加"
   ]
  },
  {
   "cell_type": "markdown",
   "metadata": {},
   "source": [
    "    HF:~ wonderful$ python2.7 /Users/wonderful/Desktop/mtfacfib.py \n",
    "    starting at: Fri Aug 18 14:32:08 2017\n",
    "    start loop 0 at: Fri Aug 18 14:32:08 2017\n",
    "    start loop 1 at: Fri Aug 18 14:32:08 2017\n",
    "    loop 1 done at: Fri Aug 18 14:32:10 2017\n",
    "    loop 0 done at: Fri Aug 18 14:32:12 2017\n",
    "    all DONE at: Fri Aug 18 14:32:12 2017"
   ]
  },
  {
   "cell_type": "code",
   "execution_count": null,
   "metadata": {
    "collapsed": true
   },
   "outputs": [],
   "source": []
  },
  {
   "cell_type": "code",
   "execution_count": null,
   "metadata": {
    "collapsed": true
   },
   "outputs": [],
   "source": []
  }
 ],
 "metadata": {
  "kernelspec": {
   "display_name": "Python 3",
   "language": "python",
   "name": "python3"
  },
  "language_info": {
   "codemirror_mode": {
    "name": "ipython",
    "version": 3
   },
   "file_extension": ".py",
   "mimetype": "text/x-python",
   "name": "python",
   "nbconvert_exporter": "python",
   "pygments_lexer": "ipython3",
   "version": "3.6.0"
  }
 },
 "nbformat": 4,
 "nbformat_minor": 2
}
